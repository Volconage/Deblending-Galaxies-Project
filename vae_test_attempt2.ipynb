{
 "cells": [
  {
   "cell_type": "code",
   "execution_count": 64,
   "id": "3f85ab8f",
   "metadata": {},
   "outputs": [],
   "source": [
    "import numpy as np\n",
    "import matplotlib.pyplot as plt\n",
    "import tensorflow as tf\n",
    "\n",
    "from tensorflow import keras\n",
    "from tensorflow.keras import layers\n",
    "\n",
    "from keras.layers import Conv2D, MaxPooling2D, UpSampling2D, Conv2DTranspose\n",
    "from keras.layers import Input, Dense, Flatten, Lambda, Reshape\n",
    "from keras.models import Model\n",
    "from keras.optimizers import Adam\n",
    "from keras.losses import mse\n",
    "\n",
    "tf.random.set_seed(1)"
   ]
  },
  {
   "cell_type": "code",
   "execution_count": 65,
   "id": "ca362e4b",
   "metadata": {},
   "outputs": [],
   "source": [
    "(train_img,_),(test_img,_)=tf.keras.datasets.mnist.load_data()\n",
    "\n",
    "height,width=28,28\n",
    "\n",
    "train_img=train_img.reshape(train_img.shape[0],height,width,1).astype('float32')\n",
    "train_img/=255\n",
    "train_img[train_img>=0.5]=1\n",
    "train_img[train_img<=0.5]=0\n",
    "\n",
    "test_img=test_img.reshape(test_img.shape[0],height,width,1).astype('float32')\n",
    "test_img/=255\n",
    "test_img[test_img>=0.5]=1\n",
    "test_img[test_img<=0.5]=0\n",
    "\n",
    "#plt.imshow()\n",
    "\n",
    "train_buffer=60000\n",
    "test_buffer=10000\n",
    "\n",
    "batch_size=100\n",
    "latent_dimensions=2\n",
    "\n",
    "train_set=tf.data.Dataset.from_tensor_slices(train_img).shuffle(train_buffer).batch(batch_size)\n",
    "test_set=tf.data.Dataset.from_tensor_slices(test_img).shuffle(test_buffer).batch(batch_size)"
   ]
  },
  {
   "cell_type": "code",
   "execution_count": 66,
   "id": "cd397cff",
   "metadata": {},
   "outputs": [],
   "source": [
    "def encoder(x):\n",
    "    x=Conv2D(32,3,activation='relu',padding='same',strides=2)(x)\n",
    "    x=Conv2D(64,3,activation='relu',padding='same',strides=2)(x)\n",
    "    #x=MaxPooling2D()(x)\n",
    "    return x"
   ]
  },
  {
   "cell_type": "code",
   "execution_count": 67,
   "id": "23e18487",
   "metadata": {},
   "outputs": [],
   "source": [
    "def decoder(x):\n",
    "    #x=UpSampling2D()(x)\n",
    "    x=Conv2DTranspose(64,3,activation='relu',padding='same',strides=2)(x)\n",
    "    x=Conv2DTranspose(32,3,activation='relu',padding='same',strides=2)(x)\n",
    "    return x"
   ]
  },
  {
   "cell_type": "code",
   "execution_count": 68,
   "id": "9bb0dfdf",
   "metadata": {},
   "outputs": [],
   "source": [
    "def sampling(args):\n",
    "    z_mean,z_log_sigma=args\n",
    "    epsilon=tf.random.normal(shape=tf.shape(z_mean))\n",
    "    z=z_mean+tf.exp(0.5*z_log_sigma)*epsilon\n",
    "    return z"
   ]
  },
  {
   "cell_type": "code",
   "execution_count": 69,
   "id": "ee2b59cb",
   "metadata": {},
   "outputs": [],
   "source": [
    "inputs=Input(shape=(height,width,1))\n",
    "\n",
    "encoded=encoder(inputs)\n",
    "shape=encoded.get_shape()[1:]\n",
    "encoded=Flatten()(encoded)\n",
    "\n",
    "z_mean=Dense(latent_dimensions)(encoded)\n",
    "z_log_sigma=Dense(latent_dimensions)(encoded)\n",
    "z=Lambda(sampling)([z_mean,z_log_sigma])\n",
    "\n",
    "input_embed=Input(shape=latent_dimensions)\n",
    "embed=Dense(np.prod(shape),activation='relu')(input_embed)\n",
    "embed=Reshape(shape)(embed)\n",
    "\n",
    "decoded=decoder(embed)\n",
    "output=Conv2DTranspose(1,3,padding='same')(decoded)"
   ]
  },
  {
   "cell_type": "code",
   "execution_count": 70,
   "id": "14ef6a5b",
   "metadata": {},
   "outputs": [
    {
     "name": "stdout",
     "output_type": "stream",
     "text": [
      "Model: \"functional_43\"\n",
      "__________________________________________________________________________________________________\n",
      "Layer (type)                    Output Shape         Param #     Connected to                     \n",
      "==================================================================================================\n",
      "input_22 (InputLayer)           [(None, 28, 28, 1)]  0                                            \n",
      "__________________________________________________________________________________________________\n",
      "conv2d_28 (Conv2D)              (None, 14, 14, 32)   320         input_22[0][0]                   \n",
      "__________________________________________________________________________________________________\n",
      "conv2d_29 (Conv2D)              (None, 7, 7, 64)     18496       conv2d_28[0][0]                  \n",
      "__________________________________________________________________________________________________\n",
      "flatten_11 (Flatten)            (None, 3136)         0           conv2d_29[0][0]                  \n",
      "__________________________________________________________________________________________________\n",
      "dense_28 (Dense)                (None, 2)            6274        flatten_11[0][0]                 \n",
      "__________________________________________________________________________________________________\n",
      "dense_29 (Dense)                (None, 2)            6274        flatten_11[0][0]                 \n",
      "__________________________________________________________________________________________________\n",
      "lambda_11 (Lambda)              (None, 2)            0           dense_28[0][0]                   \n",
      "                                                                 dense_29[0][0]                   \n",
      "==================================================================================================\n",
      "Total params: 31,364\n",
      "Trainable params: 31,364\n",
      "Non-trainable params: 0\n",
      "__________________________________________________________________________________________________\n",
      "Model: \"functional_45\"\n",
      "_________________________________________________________________\n",
      "Layer (type)                 Output Shape              Param #   \n",
      "=================================================================\n",
      "input_23 (InputLayer)        [(None, 2)]               0         \n",
      "_________________________________________________________________\n",
      "dense_30 (Dense)             (None, 3136)              9408      \n",
      "_________________________________________________________________\n",
      "reshape_6 (Reshape)          (None, 7, 7, 64)          0         \n",
      "_________________________________________________________________\n",
      "conv2d_transpose_18 (Conv2DT (None, 14, 14, 64)        36928     \n",
      "_________________________________________________________________\n",
      "conv2d_transpose_19 (Conv2DT (None, 28, 28, 32)        18464     \n",
      "_________________________________________________________________\n",
      "conv2d_transpose_20 (Conv2DT (None, 28, 28, 1)         289       \n",
      "=================================================================\n",
      "Total params: 65,089\n",
      "Trainable params: 65,089\n",
      "Non-trainable params: 0\n",
      "_________________________________________________________________\n"
     ]
    }
   ],
   "source": [
    "encode=Model(inputs,z)\n",
    "encode.summary()\n",
    "\n",
    "decode=Model(input_embed,output)\n",
    "decode.summary()"
   ]
  },
  {
   "cell_type": "code",
   "execution_count": 71,
   "id": "ab4a33fb",
   "metadata": {},
   "outputs": [
    {
     "name": "stdout",
     "output_type": "stream",
     "text": [
      "Model: \"functional_47\"\n",
      "_________________________________________________________________\n",
      "Layer (type)                 Output Shape              Param #   \n",
      "=================================================================\n",
      "input_22 (InputLayer)        [(None, 28, 28, 1)]       0         \n",
      "_________________________________________________________________\n",
      "functional_43 (Functional)   (None, 2)                 31364     \n",
      "_________________________________________________________________\n",
      "functional_45 (Functional)   (None, 28, 28, 1)         65089     \n",
      "=================================================================\n",
      "Total params: 96,453\n",
      "Trainable params: 96,453\n",
      "Non-trainable params: 0\n",
      "_________________________________________________________________\n"
     ]
    }
   ],
   "source": [
    "reconstruction=decode(encode(inputs))\n",
    "vae=Model(inputs,reconstruction)\n",
    "vae.summary()"
   ]
  },
  {
   "cell_type": "code",
   "execution_count": 72,
   "id": "eb83bcef",
   "metadata": {},
   "outputs": [],
   "source": [
    "mse_loss=tf.reduce_mean(mse(inputs,reconstruction)*height*width)\n",
    "vae.add_loss(mse_loss)\n",
    "vae.add_metric(mse_loss,'mse_loss')\n",
    "\n",
    "kl_loss=tf.reduce_mean(-0.5*(1+z_log_sigma-tf.square(z_mean)-tf.exp(z_log_sigma)))*0.01\n",
    "vae.add_loss(kl_loss)\n",
    "vae.add_metric(kl_loss,'kl_loss')\n",
    "\n",
    "vae.compile(optimizer=Adam())"
   ]
  },
  {
   "cell_type": "code",
   "execution_count": 73,
   "id": "82ebfb04",
   "metadata": {},
   "outputs": [
    {
     "name": "stdout",
     "output_type": "stream",
     "text": [
      "Epoch 1/5\n",
      "600/600 [==============================] - 30s 50ms/step - loss: 57.6763 - mse_loss: 57.6116 - kl_loss: 0.0647 - val_loss: 51.8298 - val_mse_loss: 51.7728 - val_kl_loss: 0.0570\n",
      "Epoch 2/5\n",
      "600/600 [==============================] - 30s 51ms/step - loss: 50.8342 - mse_loss: 50.7768 - kl_loss: 0.0573 - val_loss: 49.4153 - val_mse_loss: 49.3581 - val_kl_loss: 0.0572\n",
      "Epoch 3/5\n",
      "600/600 [==============================] - 30s 51ms/step - loss: 49.2210 - mse_loss: 49.1638 - kl_loss: 0.0572 - val_loss: 48.4309 - val_mse_loss: 48.3774 - val_kl_loss: 0.0535\n",
      "Epoch 4/5\n",
      "600/600 [==============================] - 31s 51ms/step - loss: 48.4067 - mse_loss: 48.3498 - kl_loss: 0.0569 - val_loss: 47.7183 - val_mse_loss: 47.6614 - val_kl_loss: 0.0569\n",
      "Epoch 5/5\n",
      "600/600 [==============================] - 31s 51ms/step - loss: 47.9184 - mse_loss: 47.8617 - kl_loss: 0.0567 - val_loss: 47.4785 - val_mse_loss: 47.4207 - val_kl_loss: 0.0579\n"
     ]
    }
   ],
   "source": [
    "history=vae.fit(train_set,verbose=1,epochs=5,batch_size=batch_size,validation_data=test_set)"
   ]
  },
  {
   "cell_type": "code",
   "execution_count": 78,
   "id": "fedde53f",
   "metadata": {},
   "outputs": [],
   "source": [
    "def showimg(img, ax, title=None, vmin=0, vmax=1):\n",
    "    ax.imshow(img.squeeze(), vmin=vmin, vmax=vmax)\n",
    "    ax.set_title(title)\n",
    "    ax.axis('off')\n",
    "\n",
    "def summary_plot(n=5):\n",
    "    idx = np.random.choice(len(train_img), size=n, replace=False)\n",
    "    input_img = train_img[idx]\n",
    "    z = encode.predict(input_img)\n",
    "    output_img = decode.predict(z)\n",
    "    diff = output_img - input_img\n",
    "    fig, ax = plt.subplots(3, n, figsize=(3*n,10))\n",
    "    for i in range(n):\n",
    "        encoding = ', '.join(f'{zi:.2f}' for zi in z[i][:3]) + ', ...'\n",
    "        showimg(input_img[i], ax[0, i], f'input {idx[i]}')\n",
    "        showimg(output_img[i], ax[1, i], f'output\\n{encoding}')\n",
    "        showimg(diff[i], ax[2, i], 'output-input', vmin=-0.5, vmax=0.5)"
   ]
  },
  {
   "cell_type": "code",
   "execution_count": 79,
   "id": "94ad89c4",
   "metadata": {},
   "outputs": [
    {
     "data": {
      "image/png": "[encoded data removed]",
      "text/plain": [
       "<Figure size 1080x720 with 15 Axes>"
      ]
     },
     "metadata": {
      "needs_background": "light"
     },
     "output_type": "display_data"
    }
   ],
   "source": [
    "summary_plot()"
   ]
  }
 ],
 "metadata": {
  "kernelspec": {
   "display_name": "Python 3 (ipykernel)",
   "language": "python",
   "name": "python3"
  },
  "language_info": {
   "codemirror_mode": {
    "name": "ipython",
    "version": 3
   },
   "file_extension": ".py",
   "mimetype": "text/x-python",
   "name": "python",
   "nbconvert_exporter": "python",
   "pygments_lexer": "ipython3",
   "version": "3.8.12"
  }
 },
 "nbformat": 4,
 "nbformat_minor": 5
}
