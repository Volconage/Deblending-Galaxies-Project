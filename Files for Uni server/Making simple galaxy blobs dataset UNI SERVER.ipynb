{
 "cells": [
  {
   "cell_type": "code",
   "execution_count": 1,
   "id": "3e63b469",
   "metadata": {},
   "outputs": [],
   "source": [
    "import numpy as np\n",
    "import tensorflow as tf\n",
    "from tensorflow import keras\n",
    "import pandas as pd\n",
    "from numpy.random import uniform, lognormal, normal\n",
    "import matplotlib.pyplot as plt \n",
    "from astropy.modeling.models import Sersic2D\n"
   ]
  },
  {
   "cell_type": "code",
   "execution_count": 2,
   "id": "0dc9bb96",
   "metadata": {},
   "outputs": [],
   "source": [
    "def make_galaxy_parameters(n_images=100000, n_gal_per_image=2,\n",
    "                         img_size=(64,64), seed = 12345, plot = True):\n",
    "    n_gals = (n_gal_per_image, n_images)\n",
    "    np.random.seed(seed)\n",
    "    params1 = dict(\n",
    "        amplitude = lognormal(0, 0.1, size=n_gals),\n",
    "        r_eff = lognormal(2, 0.1, size=n_gals),\n",
    "        n = lognormal(0.5, 0.2, size=n_gals),\n",
    "        ellip = uniform(0.0, 0.8, size=n_gals),\n",
    "        x_0 = normal(0.5, 0.1, size=n_gals) * img_size[0],\n",
    "        y_0 = normal(0.5, 0.1, size=n_gals) * img_size[1],\n",
    "        theta = uniform(0.0, np.pi, size=n_gals)\n",
    "    )\n",
    "    if plot:\n",
    "        fig, axarr = plt.subplots(2, 4, figsize=(15, 8))\n",
    "        for ax, (par, values) in zip(axarr.flat, params1.items()):\n",
    "            ax.hist(values, histtype='step')\n",
    "            ax.set_xlabel(par)\n",
    "        axarr.flat[-1].axis('off')\n",
    "    return params1"
   ]
  },
  {
   "cell_type": "code",
   "execution_count": 3,
   "id": "de45435c",
   "metadata": {},
   "outputs": [],
   "source": [
    "def make_blended_gals(params, img_size=(64, 64)):\n",
    "    x, y = np.mgrid[:img_size[1], :img_size[0]]\n",
    "    shape = (2, ngal)\n",
    "    components = np.zeros(shape + img_size[::-1])\n",
    "    blended = np.zeros(shape[1:] + img_size[::-1])\n",
    "    for img_idx in range(shape[1]):\n",
    "        for gal_idx in range(shape[0]):\n",
    "            par = {p: x[gal_idx, img_idx] for p, x in params.items()}\n",
    "            mod = Sersic2D(**par)(y, x)\n",
    "            components[gal_idx, img_idx] = mod\n",
    "            blended[img_idx] += mod\n",
    "    return components, blended"
   ]
  },
  {
   "cell_type": "code",
   "execution_count": 4,
   "id": "b9674351",
   "metadata": {},
   "outputs": [],
   "source": [
    "def add_noise(img, scale=0.01):\n",
    "    return img + normal(scale=scale, size=img.shape)\n"
   ]
  },
  {
   "cell_type": "code",
   "execution_count": 5,
   "id": "6fb8d124",
   "metadata": {},
   "outputs": [],
   "source": [
    "def asinh_scale(x, a=0.1, inverse=False):\n",
    "    # This is a common way of scaling astronomical images\n",
    "    # so that inner and outer regions of galaxies can be seen\n",
    "    return np.arcsinh(x / a) / np.arcsinh(1 / a)"
   ]
  },
  {
   "cell_type": "code",
   "execution_count": 6,
   "id": "748263eb",
   "metadata": {},
   "outputs": [],
   "source": [
    "\n",
    "ngal = 100000\n",
    "ncomp = 2\n",
    "\n",
    "params = make_galaxy_parameters(ngal, ncomp, plot=False)\n",
    "\n",
    "components, blended = make_blended_gals(params)\n",
    "\n",
    "blended = add_noise(blended)\n",
    "components = add_noise(components)\n",
    "\n",
    "components = asinh_scale(components)\n",
    "blended = asinh_scale(blended)\n"
   ]
  },
  {
   "cell_type": "code",
   "execution_count": 9,
   "id": "49616f6a",
   "metadata": {},
   "outputs": [],
   "source": [
    "np.save(\"blends.npy\", blended)\n",
    "np.save(\"components.npy\", components)"
   ]
  },
  {
   "cell_type": "code",
   "execution_count": null,
   "id": "e2702128",
   "metadata": {},
   "outputs": [],
   "source": []
  },
  {
   "cell_type": "code",
   "execution_count": null,
   "id": "2d45375c",
   "metadata": {},
   "outputs": [],
   "source": []
  },
  {
   "cell_type": "code",
   "execution_count": null,
   "id": "b36993b4",
   "metadata": {},
   "outputs": [],
   "source": []
  }
 ],
 "metadata": {
  "kernelspec": {
   "display_name": "Python 3 (ipykernel)",
   "language": "python",
   "name": "python3"
  },
  "language_info": {
   "codemirror_mode": {
    "name": "ipython",
    "version": 3
   },
   "file_extension": ".py",
   "mimetype": "text/x-python",
   "name": "python",
   "nbconvert_exporter": "python",
   "pygments_lexer": "ipython3",
   "version": "3.8.12"
  }
 },
 "nbformat": 4,
 "nbformat_minor": 5
}
