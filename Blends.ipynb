{
 "cells": [
  {
   "cell_type": "markdown",
   "metadata": {},
   "source": [
    "# Setup\n",
    "\n",
    "Importing the relevant packages"
   ]
  },
  {
   "cell_type": "code",
   "execution_count": 1,
   "metadata": {},
   "outputs": [],
   "source": [
    "%matplotlib inline\n",
    "import matplotlib.pyplot as plt\n",
    "import numpy as np\n",
    "import os\n",
    "import sys"
   ]
  },
  {
   "cell_type": "code",
   "execution_count": 2,
   "metadata": {},
   "outputs": [],
   "source": [
    "import btk\n",
    "import btk.plot_utils\n",
    "import btk.survey\n",
    "import btk.draw_blends\n",
    "import btk.catalog\n",
    "import btk.sampling_functions\n",
    "import astropy.table"
   ]
  },
  {
   "cell_type": "markdown",
   "metadata": {},
   "source": [
    "## Reproducibility"
   ]
  },
  {
   "cell_type": "markdown",
   "metadata": {},
   "source": [
    "The following cell contains the seed use to generate reproducible random realizations of BTK output. Using the same seed in BTK for **both the sampling function and draw blend generator** (more info below) guarantees the galaxy images and parameters produced will be the same, even across different systems."
   ]
  },
  {
   "cell_type": "code",
   "execution_count": 3,
   "metadata": {},
   "outputs": [],
   "source": [
    "from btk import DEFAULT_SEED\n",
    "seed = DEFAULT_SEED\n",
    "save_path = \"output/blends\"\n",
    "\n",
    "\n",
    "COSMOS_CATALOG_PATHS = [\n",
    "    \"data/real_galaxy_catalog_25.2.fits\",\n",
    "    \"data/real_galaxy_catalog_25.2_fits.fits\",\n",
    "]"
   ]
  },
  {
   "cell_type": "markdown",
   "metadata": {},
   "source": [
    "Every object in BTK that needs a seed uses `DEFAULT_SEED` implicitly. In this tutorial we explicitly show how this seed is passed in and which objects needs a seed. However, we omit it in the other tutorials."
   ]
  },
  {
   "cell_type": "markdown",
   "metadata": {},
   "source": [
    "# Draw some blends\n",
    "\n",
    "We will first explore the image generation part of BTK. We need to provide 3 main elements: the catalog, a sampling function and a survey."
   ]
  },
  {
   "cell_type": "markdown",
   "metadata": {},
   "source": [
    "## Catalog\n",
    "\n",
    "BTK uses a wrapper class for the actual catalog object, to get a standardized input for the generator. Currently BTK supports two kind of catalogs: Catsim-like catalogs and the COSMOS catalog (as provided with Galsim). Both have their own implementation of the `Catalog` class; we will only use the Catsim one here. You can easily import the catalog from a FITS file using the `from_file` method as demonstrated here with our example catalog."
   ]
  },
  {
   "cell_type": "code",
   "execution_count": 4,
   "metadata": {},
   "outputs": [],
   "source": [
    "catalog_name = \"data/cosmos/real_galaxy_catalog_23.5_example.fits\"\n",
    "catalog = btk.catalog.CosmosCatalog.from_file(COSMOS_CATALOG_PATHS, exclusion_level=\"none\" )"
   ]
  },
  {
   "cell_type": "markdown",
   "metadata": {},
   "source": [
    "It is also possible to instantiate the class by giving it the catalog directly; the `from_file` method is merely a shortcut."
   ]
  },
  {
   "cell_type": "code",
   "execution_count": 5,
   "metadata": {},
   "outputs": [],
   "source": [
    "#_, ext = os.path.splitext(catalog_name)\n",
    "#fmt = \"fits\" if ext.lower() == \".fits\" else \"ascii.basic\"\n",
    "#raw_catalog = astropy.table.Table.read(catalog_name, format=fmt)\n",
    "#catalog = btk.catalog.CosmosCatalog(raw_catalog)"
   ]
  },
  {
   "cell_type": "markdown",
   "metadata": {},
   "source": [
    "When the Catalog object is created, it creates internally a `table` attribute containing a modified table from the input, which will be used in the rest of the code."
   ]
  },
  {
   "cell_type": "markdown",
   "metadata": {},
   "source": [
    "## Sampling function\n",
    "\n",
    "The sampling function is an object which is used to determine the informations about the blends, eg which galaxies are drawn, with what shifts, ... This is achieved using the `SamplingFunction` class, which is callable like a function, taking as argument the `Catalog.table` and returning modified selected entries corresponding to the galaxies being drawn. For this tutorial, we will use the default sampling function, which can be instantiated like this:"
   ]
  },
  {
   "cell_type": "code",
   "execution_count": 6,
   "metadata": {},
   "outputs": [],
   "source": [
    "stamp_size = 12.8  # Size of the stamp, in arcseconds\n",
    "max_number = 2     # Maximum number of galaxies in a blend\n",
    "max_shift = 3    # Maximum shift of the galaxies, in arcseconds\n",
    " # random seed is used here!"
   ]
  },
  {
   "cell_type": "markdown",
   "metadata": {},
   "source": [
    "As a reference, here is a (slightly) simplified version of the code for this sampling function"
   ]
  },
  {
   "cell_type": "code",
   "execution_count": 7,
   "metadata": {},
   "outputs": [],
   "source": [
    "\n",
    "class DefaultSampling1(btk.sampling_functions.SamplingFunction):\n",
    "    \"\"\"Default sampling function used for producing blend tables.\"\"\"\n",
    "\n",
    "    def __init__(self, stamp_size=12.8, maxshift= 3):\n",
    "        \"\"\"\n",
    "        Args:\n",
    "            max_number (int): Defined in parent class\n",
    "            stamp_size (float): Size of the desired stamp.\n",
    "            maxshift (float): Magnitude of maximum value of shift. If None then it\n",
    "                             is set as one-tenth the stamp size. (in arcseconds)\n",
    "        \"\"\"\n",
    "        super().__init__(2)\n",
    "        self.stamp_size = stamp_size\n",
    "        self.maxshift = maxshift if maxshift else self.stamp_size / 10.0\n",
    "        \n",
    "    @property\n",
    "    def compatible_catalogs(self):\n",
    "        return \"CatsimCatalog\", \"CosmosCatalog\"\n",
    "\n",
    "    def __call__(self, table):\n",
    "        \"\"\"Applies default sampling to the input CatSim-like catalog and returns an\n",
    "        astropy table with entries corresponding to a blend centered close to postage\n",
    "        stamp center.\n",
    "\n",
    "        Function selects entries from input table that are brighter than 25.3 mag\n",
    "        in the i band. Number of objects per blend is set at a random integer\n",
    "        between 1 and Args.max_number. The blend table is then randomly sampled\n",
    "        entries from the table after selection cuts. The centers are randomly\n",
    "        distributed within 1/10th of the stamp size. Here even though the galaxies\n",
    "        are sampled from a CatSim catalog, their spatial location are not\n",
    "        representative of real blends.\n",
    "\n",
    "        Args:\n",
    "            table (astropy.table): Table containing entries corresponding to galaxies\n",
    "                                   from which to sample.\n",
    "\n",
    "        Returns:\n",
    "            Astropy.table with entries corresponding to one blend.\n",
    "        \"\"\"\n",
    "        (q1,) = np.where(table[\"ref_mag\"] <= 24.3)\n",
    "        (q2,) = np.where(table[\"ref_mag\"] <= 24.3)\n",
    "        \n",
    "        indexes1 = [np.random.choice(q1,), np.random.choice(q2,)]\n",
    "        \n",
    "        blend_table = table[indexes1]\n",
    "        \n",
    "        blend_table[\"ra\"] = 0.0\n",
    "        blend_table[\"dec\"] = 0.0\n",
    "        x_peak, y_peak = _get_random_center_shift(1, self.maxshift)\n",
    "        blend_table[\"ra\"][1] += x_peak\n",
    "        blend_table[\"dec\"][1] += y_peak\n",
    "\n",
    "        if np.any(blend_table[\"ra\"] > self.stamp_size / 2.0) or np.any(\n",
    "            blend_table[\"dec\"] > self.stamp_size / 2.0\n",
    "        ):\n",
    "            warnings.warn(\"Object center lies outside the stamp\")\n",
    "        return blend_table\n",
    "\n",
    "def _get_random_center_shift(num_objects, maxshift):\n",
    "    \"\"\"Returns random shifts in x and y coordinates between + and - max-shift in arcseconds.\n",
    "\n",
    "    Args:\n",
    "        num_objects (int): Number of x and y shifts to return.\n",
    "\n",
    "    Returns:\n",
    "        x_peak (float): random shift along the x axis\n",
    "        y_peak (float): random shift along the x axis\n",
    "    \"\"\"\n",
    "    x_peak = np.random.uniform(-maxshift, maxshift, size=num_objects)\n",
    "    y_peak = np.random.uniform(-maxshift, maxshift, size=num_objects)\n",
    "    return x_peak, y_peak"
   ]
  },
  {
   "cell_type": "markdown",
   "metadata": {},
   "source": [
    "You can see that this function chooses random galaxies (after applying a magnitude cut), computes random shifts for the galaxies and returns the entries from the table, adding two columns corresponding to the shifts. You may write more complex sampling functions if you wish to have more control over how the galaxies are drawn; there are some other examples in the `btk.sampling_functions` file. If you want to write your own, please check the `advanced-features` notebook, which will show what to do in more details."
   ]
  },
  {
   "cell_type": "markdown",
   "metadata": {},
   "source": [
    "## Survey\n",
    "\n",
    "The BTK Survey object defines the observing conditions relative to a survey. It is based on the named tuple class, and contains various parameters (eg. pixel scale, effective_area), including a list of Filter objects. The Filter class is also a named tuple, and contains information concerning a specific filter in the survey (eg. exporesure time, psf). Numerous surveys are already implemented in BTK; we will import the Rubin one for this tutorial."
   ]
  },
  {
   "cell_type": "code",
   "execution_count": 8,
   "metadata": {},
   "outputs": [],
   "source": [
    "Rubin = btk.survey.get_surveys(\"Rubin\")"
   ]
  },
  {
   "cell_type": "markdown",
   "metadata": {},
   "source": [
    "You may want to define your own survey if you wish to modify some parameters or use a survey which is not implemented in BTK. We advise you to take the code of an existing survey and modify it to your convenience. Here is the one for Rubin:"
   ]
  },
  {
   "cell_type": "code",
   "execution_count": 9,
   "metadata": {},
   "outputs": [],
   "source": [
    "from btk.survey import get_psf\n",
    "_central_wavelength = {\n",
    "    \"u\": 3592.13,\n",
    "    \"g\": 4789.98,\n",
    "    \"r\": 6199.52,\n",
    "    \"i\": 7528.51,\n",
    "    \"z\": 8689.83,\n",
    "    \"y\": 9674.05,\n",
    "}\n",
    "Rubin = btk.survey.Survey(\n",
    "    \"Rubin\",\n",
    "    pixel_scale=0.2,\n",
    "    effective_area=32.4,\n",
    "    mirror_diameter=8.36,\n",
    "    airmass=1.2,\n",
    "    zeropoint_airmass=1.2,\n",
    "    filters=[\n",
    "        btk.survey.Filter(\n",
    "            name=\"u\",\n",
    "            psf=get_psf(\n",
    "                mirror_diameter=8.36,\n",
    "                effective_area=32.4,\n",
    "                filt_wavelength=_central_wavelength[\"u\"],\n",
    "                fwhm=0.859,\n",
    "            ),\n",
    "            sky_brightness=22.9,\n",
    "            exp_time=1680,\n",
    "            zeropoint=26.40,\n",
    "            extinction=0.451,\n",
    "        ),\n",
    "        btk.survey.Filter(\n",
    "            name=\"g\",\n",
    "            psf=get_psf(\n",
    "                mirror_diameter=8.36,\n",
    "                effective_area=32.4,\n",
    "                filt_wavelength=_central_wavelength[\"g\"],\n",
    "                fwhm=0.814,\n",
    "            ),\n",
    "            sky_brightness=22.3,\n",
    "            exp_time=2400,\n",
    "            zeropoint=28.26,\n",
    "            extinction=0.163,\n",
    "        ),\n",
    "        btk.survey.Filter(\n",
    "            name=\"r\",\n",
    "            psf=get_psf(\n",
    "                mirror_diameter=8.36,\n",
    "                effective_area=32.4,\n",
    "                filt_wavelength=_central_wavelength[\"r\"],\n",
    "                fwhm=0.781,\n",
    "            ),\n",
    "            sky_brightness=21.2,\n",
    "            exp_time=5520,\n",
    "            zeropoint=28.10,\n",
    "            extinction=0.10,\n",
    "        ),\n",
    "        btk.survey.Filter(\n",
    "            name=\"i\",\n",
    "            psf=get_psf(\n",
    "                mirror_diameter=8.36,\n",
    "                effective_area=32.4,\n",
    "                filt_wavelength=_central_wavelength[\"i\"],\n",
    "                fwhm=0.748,\n",
    "            ),\n",
    "            sky_brightness=20.5,\n",
    "            exp_time=5520,\n",
    "            zeropoint=27.78,\n",
    "            extinction=0.07,\n",
    "        ),\n",
    "        btk.survey.Filter(\n",
    "            name=\"z\",\n",
    "            psf=get_psf(\n",
    "                mirror_diameter=8.36,\n",
    "                effective_area=32.4,\n",
    "                filt_wavelength=_central_wavelength[\"z\"],\n",
    "                fwhm=0.725,\n",
    "            ),\n",
    "            sky_brightness=19.6,\n",
    "            exp_time=4800,\n",
    "            zeropoint=27.39,\n",
    "            extinction=0.043,\n",
    "        ),\n",
    "        btk.survey.Filter(\n",
    "            name=\"y\",\n",
    "            psf=get_psf(\n",
    "                mirror_diameter=8.36,\n",
    "                effective_area=32.4,\n",
    "                filt_wavelength=_central_wavelength[\"y\"],\n",
    "                fwhm=0.703,\n",
    "            ),\n",
    "            sky_brightness=18.6,\n",
    "            exp_time=4800,\n",
    "            zeropoint=26.56,\n",
    "            extinction=0.138,\n",
    "        ),\n",
    "    ],\n",
    ")"
   ]
  },
  {
   "cell_type": "markdown",
   "metadata": {},
   "source": [
    "Most attributes should be pretty straightforward to modify; please take a look at the [API](https://lsstdesc.org/BlendingToolKit/src/btk.survey.html) for a more substantial description of the attributes. The [custom tutorial](https://github.com/LSSTDESC/BlendingToolKit/blob/main/notebooks/02b-custom-tutorial.ipynb) also provides descriptions of the attributes and more information on how to customize surveys.\n",
    "\n",
    "The `psf` attribute deserves an additionnal explanation: it corresponds to the PSF for each filter. It can be provided either directly as a Galsim model e.g. `galsim.Kolmogorov(fwhm=1.5)` or as a function returning a Galsim model, for randomization purposes. For example:"
   ]
  },
  {
   "cell_type": "code",
   "execution_count": 10,
   "metadata": {},
   "outputs": [],
   "source": [
    "def random_psf():\n",
    "    fwhm = np.random.uniform(1.5,1.7)\n",
    "    return galsim.Kolmogorov(fwhm=0.65)"
   ]
  },
  {
   "cell_type": "markdown",
   "metadata": {},
   "source": [
    "You may want to use a function taking an argument to avoid rewriting the function for each filter; we advise using lambda functions to achieve this, eg `get_u_psf = lambda : get_custom_psf(u_band_argument)`."
   ]
  },
  {
   "cell_type": "markdown",
   "metadata": {},
   "source": [
    "Finally, you can use the default function `get_psf` as demonstrated in the Rubin Survey, to get a complex (not random) PSF, or use the function `get_psf_from_file(psf_dir, pixel_scale)` to import a PSF from a FITS file (randomly if there are more than one file in the directory provided)."
   ]
  },
  {
   "cell_type": "markdown",
   "metadata": {},
   "source": [
    "You can find more on how to define your own survey, including details on all the arguments, in the `advanced-features` tutorial notebook."
   ]
  },
  {
   "cell_type": "markdown",
   "metadata": {},
   "source": [
    "## Drawing the blends\n",
    "\n",
    "Now that we have all the objects at our disposal, we can create the DrawBlendsGenerator. This object is a python generator, meaning it can be called with `next(generator)` to generate a new batch. It is again declined for Catsim and COSMOS, and we will use the Catsim one here. We suggest you refer to the documentation for information on the additionnal parameters here."
   ]
  },
  {
   "cell_type": "code",
   "execution_count": 13,
   "metadata": {},
   "outputs": [],
   "source": [
    "sampling_function = DefaultSampling1()\n",
    "\n",
    "draw_generator = btk.draw_blends.CosmosGenerator(\n",
    "    catalog,\n",
    "    sampling_function,\n",
    "    Rubin,\n",
    "    batch_size=20,\n",
    "    stamp_size=12.8,\n",
    "    cpus=1,\n",
    "    add_noise=\"all\",\n",
    "    save_path=save_path,\n",
    "    seed=seed, # same random seed is used here too!\n",
    ")"
   ]
  },
  {
   "cell_type": "markdown",
   "metadata": {},
   "source": [
    "The results from the `next` call are stored in the dictionnary; the keys are:\n",
    "- `blend_images` for the actual images (as a (batch_size,stamp_size,stamp_size,len(survey.filters))-sized numpy array )\n",
    "- `isolated_images` for the isolated images (as a (batch_size,sampling_function.max_number,stamp_size,stamp_size,len(survey.filters))-sized numpy array )\n",
    "- `blend_list` for the blend information (as a list of astropy tables corresponding to the output of the sampling function for each blend)\n",
    "- `psf` for the PSF (as a list of Galsim objects)\n",
    "- `wcs` for the World Coordinate System corresponding to the images (as a list of astropy.wcs.WCS objects)\n",
    "\n",
    "Please note that several surveys can be provided as a list to the generator. In that case, each of the entry will contain a dictionnary indexed by the surveys, which in turn contains the results described as above (you would access it with `batch['blend_images']['LSST']` for instance."
   ]
  },
  {
   "cell_type": "code",
   "execution_count": 14,
   "metadata": {},
   "outputs": [
    {
     "data": {
      "application/vnd.jupyter.widget-view+json": {
       "model_id": "5bf7dcd2dc294dba924840d12f2e9ebf",
       "version_major": 2,
       "version_minor": 0
      },
      "text/plain": [
       "Generating blends for Rubin survey:   0%|          | 0/20 [00:00<?, ?it/s]"
      ]
     },
     "metadata": {},
     "output_type": "display_data"
    },
    {
     "ename": "ValueError",
     "evalue": "column(s) with dimension > 1 cannot be be written with this format, try using 'ecsv' (Enhanced CSV) format",
     "output_type": "error",
     "traceback": [
      "\u001b[0;31m---------------------------------------------------------------------------\u001b[0m",
      "\u001b[0;31mValueError\u001b[0m                                Traceback (most recent call last)",
      "\u001b[0;32m/tmp/ipykernel_187/1405362573.py\u001b[0m in \u001b[0;36m<module>\u001b[0;34m\u001b[0m\n\u001b[0;32m----> 1\u001b[0;31m \u001b[0mbatch\u001b[0m \u001b[0;34m=\u001b[0m \u001b[0mnext\u001b[0m\u001b[0;34m(\u001b[0m\u001b[0mdraw_generator\u001b[0m\u001b[0;34m)\u001b[0m\u001b[0;34m\u001b[0m\u001b[0;34m\u001b[0m\u001b[0m\n\u001b[0m\u001b[1;32m      2\u001b[0m \u001b[0mblend_images\u001b[0m \u001b[0;34m=\u001b[0m \u001b[0mbatch\u001b[0m\u001b[0;34m[\u001b[0m\u001b[0;34m'blend_images'\u001b[0m\u001b[0;34m]\u001b[0m\u001b[0;34m\u001b[0m\u001b[0;34m\u001b[0m\u001b[0m\n\u001b[1;32m      3\u001b[0m \u001b[0mblend_list\u001b[0m \u001b[0;34m=\u001b[0m \u001b[0mbatch\u001b[0m\u001b[0;34m[\u001b[0m\u001b[0;34m'blend_list'\u001b[0m\u001b[0;34m]\u001b[0m\u001b[0;34m\u001b[0m\u001b[0;34m\u001b[0m\u001b[0m\n\u001b[1;32m      4\u001b[0m \u001b[0mbtk\u001b[0m\u001b[0;34m.\u001b[0m\u001b[0mplot_utils\u001b[0m\u001b[0;34m.\u001b[0m\u001b[0mplot_blends\u001b[0m\u001b[0;34m(\u001b[0m\u001b[0mblend_images\u001b[0m\u001b[0;34m[\u001b[0m\u001b[0;34m:\u001b[0m\u001b[0;36m5\u001b[0m\u001b[0;34m]\u001b[0m\u001b[0;34m,\u001b[0m \u001b[0mblend_list\u001b[0m\u001b[0;34m[\u001b[0m\u001b[0;34m:\u001b[0m\u001b[0;36m5\u001b[0m\u001b[0;34m]\u001b[0m\u001b[0;34m)\u001b[0m\u001b[0;34m\u001b[0m\u001b[0;34m\u001b[0m\u001b[0m\n",
      "\u001b[0;32m~/btk/draw_blends.py\u001b[0m in \u001b[0;36m__next__\u001b[0;34m(self)\u001b[0m\n\u001b[1;32m    299\u001b[0m                 \u001b[0mnp\u001b[0m\u001b[0;34m.\u001b[0m\u001b[0msave\u001b[0m\u001b[0;34m(\u001b[0m\u001b[0mos\u001b[0m\u001b[0;34m.\u001b[0m\u001b[0mpath\u001b[0m\u001b[0;34m.\u001b[0m\u001b[0mjoin\u001b[0m\u001b[0;34m(\u001b[0m\u001b[0mself\u001b[0m\u001b[0;34m.\u001b[0m\u001b[0msave_path\u001b[0m\u001b[0;34m,\u001b[0m \u001b[0ms\u001b[0m\u001b[0;34m.\u001b[0m\u001b[0mname\u001b[0m\u001b[0;34m,\u001b[0m \u001b[0;34m\"isolated\"\u001b[0m\u001b[0;34m)\u001b[0m\u001b[0;34m,\u001b[0m \u001b[0misolated_images\u001b[0m\u001b[0;34m[\u001b[0m\u001b[0ms\u001b[0m\u001b[0;34m.\u001b[0m\u001b[0mname\u001b[0m\u001b[0;34m]\u001b[0m\u001b[0;34m)\u001b[0m\u001b[0;34m\u001b[0m\u001b[0;34m\u001b[0m\u001b[0m\n\u001b[1;32m    300\u001b[0m                 \u001b[0;32mfor\u001b[0m \u001b[0mi\u001b[0m \u001b[0;32min\u001b[0m \u001b[0mrange\u001b[0m\u001b[0;34m(\u001b[0m\u001b[0mlen\u001b[0m\u001b[0;34m(\u001b[0m\u001b[0mbatch_results\u001b[0m\u001b[0;34m)\u001b[0m\u001b[0;34m)\u001b[0m\u001b[0;34m:\u001b[0m\u001b[0;34m\u001b[0m\u001b[0;34m\u001b[0m\u001b[0m\n\u001b[0;32m--> 301\u001b[0;31m                     blend_list[s.name][i].write(\n\u001b[0m\u001b[1;32m    302\u001b[0m                         \u001b[0mos\u001b[0m\u001b[0;34m.\u001b[0m\u001b[0mpath\u001b[0m\u001b[0;34m.\u001b[0m\u001b[0mjoin\u001b[0m\u001b[0;34m(\u001b[0m\u001b[0mself\u001b[0m\u001b[0;34m.\u001b[0m\u001b[0msave_path\u001b[0m\u001b[0;34m,\u001b[0m \u001b[0ms\u001b[0m\u001b[0;34m.\u001b[0m\u001b[0mname\u001b[0m\u001b[0;34m,\u001b[0m \u001b[0;34mf\"blend_info_{i}\"\u001b[0m\u001b[0;34m)\u001b[0m\u001b[0;34m,\u001b[0m\u001b[0;34m\u001b[0m\u001b[0;34m\u001b[0m\u001b[0m\n\u001b[1;32m    303\u001b[0m                         \u001b[0mformat\u001b[0m\u001b[0;34m=\u001b[0m\u001b[0;34m\"ascii\"\u001b[0m\u001b[0;34m,\u001b[0m\u001b[0;34m\u001b[0m\u001b[0;34m\u001b[0m\u001b[0m\n",
      "\u001b[0;32m~/anaconda3/envs/downgrade/lib/python3.8/site-packages/astropy/table/connect.py\u001b[0m in \u001b[0;36m__call__\u001b[0;34m(self, serialize_method, *args, **kwargs)\u001b[0m\n\u001b[1;32m    125\u001b[0m         \u001b[0minstance\u001b[0m \u001b[0;34m=\u001b[0m \u001b[0mself\u001b[0m\u001b[0;34m.\u001b[0m\u001b[0m_instance\u001b[0m\u001b[0;34m\u001b[0m\u001b[0;34m\u001b[0m\u001b[0m\n\u001b[1;32m    126\u001b[0m         \u001b[0;32mwith\u001b[0m \u001b[0mserialize_method_as\u001b[0m\u001b[0;34m(\u001b[0m\u001b[0minstance\u001b[0m\u001b[0;34m,\u001b[0m \u001b[0mserialize_method\u001b[0m\u001b[0;34m)\u001b[0m\u001b[0;34m:\u001b[0m\u001b[0;34m\u001b[0m\u001b[0;34m\u001b[0m\u001b[0m\n\u001b[0;32m--> 127\u001b[0;31m             \u001b[0mregistry\u001b[0m\u001b[0;34m.\u001b[0m\u001b[0mwrite\u001b[0m\u001b[0;34m(\u001b[0m\u001b[0minstance\u001b[0m\u001b[0;34m,\u001b[0m \u001b[0;34m*\u001b[0m\u001b[0margs\u001b[0m\u001b[0;34m,\u001b[0m \u001b[0;34m**\u001b[0m\u001b[0mkwargs\u001b[0m\u001b[0;34m)\u001b[0m\u001b[0;34m\u001b[0m\u001b[0;34m\u001b[0m\u001b[0m\n\u001b[0m",
      "\u001b[0;32m~/anaconda3/envs/downgrade/lib/python3.8/site-packages/astropy/io/registry.py\u001b[0m in \u001b[0;36mwrite\u001b[0;34m(data, format, *args, **kwargs)\u001b[0m\n\u001b[1;32m    568\u001b[0m \u001b[0;34m\u001b[0m\u001b[0m\n\u001b[1;32m    569\u001b[0m     \u001b[0mwriter\u001b[0m \u001b[0;34m=\u001b[0m \u001b[0mget_writer\u001b[0m\u001b[0;34m(\u001b[0m\u001b[0mformat\u001b[0m\u001b[0;34m,\u001b[0m \u001b[0mdata\u001b[0m\u001b[0;34m.\u001b[0m\u001b[0m__class__\u001b[0m\u001b[0;34m)\u001b[0m\u001b[0;34m\u001b[0m\u001b[0;34m\u001b[0m\u001b[0m\n\u001b[0;32m--> 570\u001b[0;31m     \u001b[0mwriter\u001b[0m\u001b[0;34m(\u001b[0m\u001b[0mdata\u001b[0m\u001b[0;34m,\u001b[0m \u001b[0;34m*\u001b[0m\u001b[0margs\u001b[0m\u001b[0;34m,\u001b[0m \u001b[0;34m**\u001b[0m\u001b[0mkwargs\u001b[0m\u001b[0;34m)\u001b[0m\u001b[0;34m\u001b[0m\u001b[0;34m\u001b[0m\u001b[0m\n\u001b[0m\u001b[1;32m    571\u001b[0m \u001b[0;34m\u001b[0m\u001b[0m\n\u001b[1;32m    572\u001b[0m \u001b[0;34m\u001b[0m\u001b[0m\n",
      "\u001b[0;32m~/anaconda3/envs/downgrade/lib/python3.8/site-packages/astropy/io/ascii/connect.py\u001b[0m in \u001b[0;36mio_write\u001b[0;34m(format, table, filename, **kwargs)\u001b[0m\n\u001b[1;32m     24\u001b[0m         \u001b[0mformat\u001b[0m \u001b[0;34m=\u001b[0m \u001b[0mre\u001b[0m\u001b[0;34m.\u001b[0m\u001b[0msub\u001b[0m\u001b[0;34m(\u001b[0m\u001b[0;34mr'^ascii\\.'\u001b[0m\u001b[0;34m,\u001b[0m \u001b[0;34m''\u001b[0m\u001b[0;34m,\u001b[0m \u001b[0mformat\u001b[0m\u001b[0;34m)\u001b[0m\u001b[0;34m\u001b[0m\u001b[0;34m\u001b[0m\u001b[0m\n\u001b[1;32m     25\u001b[0m         \u001b[0mkwargs\u001b[0m\u001b[0;34m[\u001b[0m\u001b[0;34m'format'\u001b[0m\u001b[0;34m]\u001b[0m \u001b[0;34m=\u001b[0m \u001b[0mformat\u001b[0m\u001b[0;34m\u001b[0m\u001b[0;34m\u001b[0m\u001b[0m\n\u001b[0;32m---> 26\u001b[0;31m     \u001b[0;32mreturn\u001b[0m \u001b[0mwrite\u001b[0m\u001b[0;34m(\u001b[0m\u001b[0mtable\u001b[0m\u001b[0;34m,\u001b[0m \u001b[0mfilename\u001b[0m\u001b[0;34m,\u001b[0m \u001b[0;34m**\u001b[0m\u001b[0mkwargs\u001b[0m\u001b[0;34m)\u001b[0m\u001b[0;34m\u001b[0m\u001b[0;34m\u001b[0m\u001b[0m\n\u001b[0m\u001b[1;32m     27\u001b[0m \u001b[0;34m\u001b[0m\u001b[0m\n\u001b[1;32m     28\u001b[0m \u001b[0;34m\u001b[0m\u001b[0m\n",
      "\u001b[0;32m~/anaconda3/envs/downgrade/lib/python3.8/site-packages/astropy/io/ascii/ui.py\u001b[0m in \u001b[0;36mwrite\u001b[0;34m(table, output, format, Writer, fast_writer, overwrite, **kwargs)\u001b[0m\n\u001b[1;32m    840\u001b[0m     \u001b[0mwriter\u001b[0m \u001b[0;34m=\u001b[0m \u001b[0mget_writer\u001b[0m\u001b[0;34m(\u001b[0m\u001b[0mWriter\u001b[0m\u001b[0;34m=\u001b[0m\u001b[0mWriter\u001b[0m\u001b[0;34m,\u001b[0m \u001b[0mfast_writer\u001b[0m\u001b[0;34m=\u001b[0m\u001b[0mfast_writer\u001b[0m\u001b[0;34m,\u001b[0m \u001b[0;34m**\u001b[0m\u001b[0mkwargs\u001b[0m\u001b[0;34m)\u001b[0m\u001b[0;34m\u001b[0m\u001b[0;34m\u001b[0m\u001b[0m\n\u001b[1;32m    841\u001b[0m     \u001b[0;32mif\u001b[0m \u001b[0mwriter\u001b[0m\u001b[0;34m.\u001b[0m\u001b[0m_format_name\u001b[0m \u001b[0;32min\u001b[0m \u001b[0mcore\u001b[0m\u001b[0;34m.\u001b[0m\u001b[0mFAST_CLASSES\u001b[0m\u001b[0;34m:\u001b[0m\u001b[0;34m\u001b[0m\u001b[0;34m\u001b[0m\u001b[0m\n\u001b[0;32m--> 842\u001b[0;31m         \u001b[0mwriter\u001b[0m\u001b[0;34m.\u001b[0m\u001b[0mwrite\u001b[0m\u001b[0;34m(\u001b[0m\u001b[0mtable\u001b[0m\u001b[0;34m,\u001b[0m \u001b[0moutput\u001b[0m\u001b[0;34m)\u001b[0m\u001b[0;34m\u001b[0m\u001b[0;34m\u001b[0m\u001b[0m\n\u001b[0m\u001b[1;32m    843\u001b[0m         \u001b[0;32mreturn\u001b[0m\u001b[0;34m\u001b[0m\u001b[0;34m\u001b[0m\u001b[0m\n\u001b[1;32m    844\u001b[0m \u001b[0;34m\u001b[0m\u001b[0m\n",
      "\u001b[0;32m~/anaconda3/envs/downgrade/lib/python3.8/site-packages/astropy/io/ascii/fastbasic.py\u001b[0m in \u001b[0;36mwrite\u001b[0;34m(self, table, output)\u001b[0m\n\u001b[1;32m    165\u001b[0m         \u001b[0mwhere\u001b[0m \u001b[0moutput\u001b[0m \u001b[0;32mis\u001b[0m \u001b[0ma\u001b[0m \u001b[0mfilename\u001b[0m \u001b[0;32mor\u001b[0m \u001b[0mfile\u001b[0m\u001b[0;34m-\u001b[0m\u001b[0mlike\u001b[0m \u001b[0mobject\u001b[0m\u001b[0;34m.\u001b[0m\u001b[0;34m\u001b[0m\u001b[0;34m\u001b[0m\u001b[0m\n\u001b[1;32m    166\u001b[0m         \"\"\"\n\u001b[0;32m--> 167\u001b[0;31m         \u001b[0mself\u001b[0m\u001b[0;34m.\u001b[0m\u001b[0m_write\u001b[0m\u001b[0;34m(\u001b[0m\u001b[0mtable\u001b[0m\u001b[0;34m,\u001b[0m \u001b[0moutput\u001b[0m\u001b[0;34m,\u001b[0m \u001b[0;34m{\u001b[0m\u001b[0;34m}\u001b[0m\u001b[0;34m)\u001b[0m\u001b[0;34m\u001b[0m\u001b[0;34m\u001b[0m\u001b[0m\n\u001b[0m\u001b[1;32m    168\u001b[0m \u001b[0;34m\u001b[0m\u001b[0m\n\u001b[1;32m    169\u001b[0m     def _write(self, table, output, default_kwargs,\n",
      "\u001b[0;32m~/anaconda3/envs/downgrade/lib/python3.8/site-packages/astropy/io/ascii/fastbasic.py\u001b[0m in \u001b[0;36m_write\u001b[0;34m(self, table, output, default_kwargs, header_output, output_types)\u001b[0m\n\u001b[1;32m    171\u001b[0m \u001b[0;34m\u001b[0m\u001b[0m\n\u001b[1;32m    172\u001b[0m         \u001b[0;31m# Fast writer supports only 1-d columns\u001b[0m\u001b[0;34m\u001b[0m\u001b[0;34m\u001b[0m\u001b[0;34m\u001b[0m\u001b[0m\n\u001b[0;32m--> 173\u001b[0;31m         \u001b[0mcore\u001b[0m\u001b[0;34m.\u001b[0m\u001b[0m_check_multidim_table\u001b[0m\u001b[0;34m(\u001b[0m\u001b[0mtable\u001b[0m\u001b[0;34m,\u001b[0m \u001b[0mmax_ndim\u001b[0m\u001b[0;34m=\u001b[0m\u001b[0;36m1\u001b[0m\u001b[0;34m)\u001b[0m\u001b[0;34m\u001b[0m\u001b[0;34m\u001b[0m\u001b[0m\n\u001b[0m\u001b[1;32m    174\u001b[0m \u001b[0;34m\u001b[0m\u001b[0m\n\u001b[1;32m    175\u001b[0m         write_kwargs = {'delimiter': self.delimiter,\n",
      "\u001b[0;32m~/anaconda3/envs/downgrade/lib/python3.8/site-packages/astropy/io/ascii/core.py\u001b[0m in \u001b[0;36m_check_multidim_table\u001b[0;34m(table, max_ndim)\u001b[0m\n\u001b[1;32m     53\u001b[0m     \u001b[0mnd_names\u001b[0m \u001b[0;34m=\u001b[0m \u001b[0;34m[\u001b[0m\u001b[0mcol\u001b[0m\u001b[0;34m.\u001b[0m\u001b[0minfo\u001b[0m\u001b[0;34m.\u001b[0m\u001b[0mname\u001b[0m \u001b[0;32mfor\u001b[0m \u001b[0mcol\u001b[0m \u001b[0;32min\u001b[0m \u001b[0mtable\u001b[0m\u001b[0;34m.\u001b[0m\u001b[0mitercols\u001b[0m\u001b[0;34m(\u001b[0m\u001b[0;34m)\u001b[0m \u001b[0;32mif\u001b[0m \u001b[0mlen\u001b[0m\u001b[0;34m(\u001b[0m\u001b[0mcol\u001b[0m\u001b[0;34m.\u001b[0m\u001b[0mshape\u001b[0m\u001b[0;34m)\u001b[0m \u001b[0;34m>\u001b[0m \u001b[0mmax_ndim\u001b[0m\u001b[0;34m]\u001b[0m\u001b[0;34m\u001b[0m\u001b[0;34m\u001b[0m\u001b[0m\n\u001b[1;32m     54\u001b[0m     \u001b[0;32mif\u001b[0m \u001b[0mnd_names\u001b[0m\u001b[0;34m:\u001b[0m\u001b[0;34m\u001b[0m\u001b[0;34m\u001b[0m\u001b[0m\n\u001b[0;32m---> 55\u001b[0;31m         raise ValueError(f'column(s) with dimension > {max_ndim} '\n\u001b[0m\u001b[1;32m     56\u001b[0m                          \u001b[0;34m\"cannot be be written with this format, try using 'ecsv' \"\u001b[0m\u001b[0;34m\u001b[0m\u001b[0;34m\u001b[0m\u001b[0m\n\u001b[1;32m     57\u001b[0m                          \"(Enhanced CSV) format\")\n",
      "\u001b[0;31mValueError\u001b[0m: column(s) with dimension > 1 cannot be be written with this format, try using 'ecsv' (Enhanced CSV) format"
     ]
    }
   ],
   "source": [
    "batch = next(draw_generator)\n",
    "blend_images = batch['blend_images']\n",
    "blend_list = batch['blend_list']\n",
    "btk.plot_utils.plot_blends(blend_images[:5], blend_list[:5])\n",
    "#this will give an error when ran but it still saves the files properly to where you put the save path. If you want it to show\n",
    "#you again then just take out the save path in the draw generator above."
   ]
  },
  {
   "cell_type": "code",
   "execution_count": 131,
   "metadata": {},
   "outputs": [
    {
     "data": {
      "text/plain": [
       "<matplotlib.image.AxesImage at 0x7fef86890340>"
      ]
     },
     "execution_count": 131,
     "metadata": {},
     "output_type": "execute_result"
    },
    {
     "data": {
      "image/png": "[encoded data removed]",
      "text/plain": [
       "<Figure size 432x288 with 1 Axes>"
      ]
     },
     "metadata": {
      "needs_background": "light"
     },
     "output_type": "display_data"
    }
   ],
   "source": [
    "#np.save(\"blends.npy\",blend_images)\n",
    "plt.imshow(blend_images[2,0])\n",
    "\n"
   ]
  },
  {
   "cell_type": "markdown",
   "metadata": {},
   "source": [
    "We can also plot the distributions in size and magnitude of the galaxies in the batch:"
   ]
  },
  {
   "cell_type": "code",
   "execution_count": 103,
   "metadata": {},
   "outputs": [
    {
     "data": {
      "image/png": "[encoded data removed]",
      "text/plain": [
       "<Figure size 1440x1080 with 2 Axes>"
      ]
     },
     "metadata": {
      "needs_background": "light"
     },
     "output_type": "display_data"
    }
   ],
   "source": [
    "btk.plot_utils.plot_gal_parameters(blend_list)"
   ]
  },
  {
   "cell_type": "markdown",
   "metadata": {},
   "source": [
    "# Measurement\n",
    "\n",
    "Now that we have some images, we can carry on with the measurements. What we call measurements in BTK is one of the three main targets of deblending: detections, segmentations and deblended images. You can use BTK to directly carry out the measurements on the generated data. To do this, you need to define a measure function.\n",
    "The measure function is a regular function with two arguments: `batch` and `idx`. Batch is the direct output of a `DrawBlendsGenerator`, and `idx` is the index of the blend on which the measurements should be done. Here is an example of what the function looks like for SEP (python implementation of Source Extractor). "
   ]
  },
  {
   "cell_type": "code",
   "execution_count": 104,
   "metadata": {},
   "outputs": [],
   "source": [
    "def sep_measure(batch, idx, channels_last=False, surveys=None, sigma_noise=1.5, **kwargs):\n",
    "    \"\"\"Return detection, segmentation and deblending information with SEP.\n",
    "\n",
    "    NOTE: If this function is used with the multiresolution feature,\n",
    "    measurements will be carried on the first survey, and deblended images\n",
    "    or segmentations will not be returned.\n",
    "\n",
    "    Args:\n",
    "        batch (dict): Output of DrawBlendsGenerator object's `__next__` method.\n",
    "        idx (int): Index number of blend scene in the batch to preform\n",
    "            measurement on.\n",
    "        sigma_noise (float): Sigma threshold for detection against noise.\n",
    "\n",
    "    Returns:\n",
    "        dict with the centers of sources detected by SEP detection algorithm.\n",
    "    \"\"\"\n",
    "    channel_indx = 0 if not channels_last else -1\n",
    "\n",
    "    # multiresolution\n",
    "    if isinstance(batch[\"blend_images\"], dict):\n",
    "        if surveys is None:\n",
    "            raise ValueError(\"surveys are required in order to use the MR feature.\")\n",
    "        survey_name = surveys[0].name\n",
    "        image = batch[\"blend_images\"][survey_name][idx]\n",
    "        avg_image = np.mean(image, axis=channel_indx)\n",
    "        wcs = batch[\"wcs\"][survey_name]\n",
    "\n",
    "    # single-survey\n",
    "    else:\n",
    "        image = batch[\"blend_images\"][idx]\n",
    "        avg_image = np.mean(image, axis=channel_indx)\n",
    "        wcs = batch[\"wcs\"]\n",
    "\n",
    "    stamp_size = avg_image.shape[0]\n",
    "    bkg = sep.Background(avg_image)\n",
    "    catalog, segmentation = sep.extract(\n",
    "        avg_image, sigma_noise, err=bkg.globalrms, segmentation_map=True\n",
    "    )\n",
    "\n",
    "    n_objects = len(catalog)\n",
    "    segmentation_exp = np.zeros((n_objects, stamp_size, stamp_size), dtype=bool)\n",
    "    deblended_images = np.zeros((n_objects, *image.shape), dtype=image.dtype)\n",
    "    for i in range(n_objects):\n",
    "        seg_i = segmentation == i + 1\n",
    "        segmentation_exp[i] = seg_i\n",
    "        seg_i_reshaped = np.zeros((np.min(image.shape), stamp_size, stamp_size))\n",
    "        for j in range(np.min(image.shape)):\n",
    "            seg_i_reshaped[j] = seg_i\n",
    "        seg_i_reshaped = np.moveaxis(seg_i_reshaped, 0, np.argmin(image.shape))\n",
    "        deblended_images[i] = image * seg_i_reshaped\n",
    "\n",
    "    t = astropy.table.Table()\n",
    "    t[\"ra\"], t[\"dec\"] = wcs.pixel_to_world_values(catalog[\"x\"], catalog[\"y\"])\n",
    "\n",
    "    # If multiresolution, return only the catalog\n",
    "    if isinstance(batch[\"blend_images\"], dict):\n",
    "        return {\"catalog\": t}\n",
    "    else:\n",
    "        return {\n",
    "            \"catalog\": t,\n",
    "            \"segmentation\": segmentation_exp,\n",
    "            \"deblended_images\": deblended_images,\n",
    "        }"
   ]
  },
  {
   "cell_type": "markdown",
   "metadata": {},
   "source": [
    "The function is not required to output all three measurements, only the catalog with `ra, dec` columns containing the detections is mandatory. Note that in the example above the `batch` also contains the `wcs` information so it's easy to convert between pixel and sky coordinates. \n",
    "\n",
    "Once the measure function is defined, it can be given to a ``MeasureGenerator`` together with the ``DrawBlendsGenerator`` from the previous step."
   ]
  },
  {
   "cell_type": "code",
   "execution_count": 105,
   "metadata": {},
   "outputs": [],
   "source": [
    "meas_generator = btk.measure.MeasureGenerator(btk.measure.sep_measure,draw_generator)"
   ]
  },
  {
   "cell_type": "markdown",
   "metadata": {},
   "source": [
    "The results returned by the `MeasureGenerator`are both the results from the `DrawBlendsGenerator` and the measures, as a dictionnary with the same keys as the measure function output but containing a list with the results from all the blends."
   ]
  },
  {
   "cell_type": "code",
   "execution_count": 106,
   "metadata": {},
   "outputs": [
    {
     "data": {
      "application/vnd.jupyter.widget-view+json": {
       "model_id": "2a215d3cea99467286365fd04ac3be0c",
       "version_major": 2,
       "version_minor": 0
      },
      "text/plain": [
       "Generating blends for Rubin survey:   0%|          | 0/5 [00:00<?, ?it/s]"
      ]
     },
     "metadata": {},
     "output_type": "display_data"
    }
   ],
   "source": [
    "blend_results,meas_results = next(meas_generator)"
   ]
  },
  {
   "cell_type": "markdown",
   "metadata": {},
   "source": [
    "You can find more on how to write your own measure function, or how to provide several measure functions at the same time in the `advanced-features` tutorial notebook; you will also find how to use the measure_kwargs feature there."
   ]
  },
  {
   "cell_type": "markdown",
   "metadata": {},
   "source": [
    "# Metrics"
   ]
  },
  {
   "cell_type": "markdown",
   "metadata": {},
   "source": [
    "Finally, now that we have the measurements, we can compute metrics to evaluate the performance of those measurements. This is done using a `MetricsGenerator`, which takes a `MeasureGenerator` as an input, as well as a handful of parameters. It will match the true galaxies with the detected galaxies and compute metrics evaluating the quality of the detection (precision, recall, F1 score), the segmentation (Intersection over Union) and the reconstruction of the galaxy images (Mean Square Residual, Peak Signal to Noise Ratio, Structure Similarity Index, error on the target measures). You can find more details on those metrics on the [API page](https://lsstdesc.org/BlendingToolKit/src/btk.metrics.html)."
   ]
  },
  {
   "cell_type": "code",
   "execution_count": 107,
   "metadata": {},
   "outputs": [
    {
     "data": {
      "application/vnd.jupyter.widget-view+json": {
       "model_id": "c170630b6dca40a29e6463cf11ed29df",
       "version_major": 2,
       "version_minor": 0
      },
      "text/plain": [
       "Generating blends for Rubin survey:   0%|          | 0/5 [00:00<?, ?it/s]"
      ]
     },
     "metadata": {},
     "output_type": "display_data"
    },
    {
     "ename": "ValueError",
     "evalue": "win_size exceeds image extent.  If the input is a multichannel (color) image, set multichannel=True.",
     "output_type": "error",
     "traceback": [
      "\u001b[0;31m---------------------------------------------------------------------------\u001b[0m",
      "\u001b[0;31mValueError\u001b[0m                                Traceback (most recent call last)",
      "\u001b[0;32m/tmp/ipykernel_579/3715026335.py\u001b[0m in \u001b[0;36m<module>\u001b[0;34m\u001b[0m\n\u001b[1;32m      5\u001b[0m                                                  \u001b[0mtarget_meas\u001b[0m\u001b[0;34m=\u001b[0m\u001b[0;34m{\u001b[0m\u001b[0;34m\"ellipticity\"\u001b[0m\u001b[0;34m:\u001b[0m\u001b[0mbtk\u001b[0m\u001b[0;34m.\u001b[0m\u001b[0mmetrics\u001b[0m\u001b[0;34m.\u001b[0m\u001b[0mmeas_ksb_ellipticity\u001b[0m\u001b[0;34m}\u001b[0m\u001b[0;34m,\u001b[0m \u001b[0;31m#See custom-tutorial for more details\u001b[0m\u001b[0;34m\u001b[0m\u001b[0;34m\u001b[0m\u001b[0m\n\u001b[1;32m      6\u001b[0m                                                  meas_band_num=0)\n\u001b[0;32m----> 7\u001b[0;31m \u001b[0mblend_results\u001b[0m\u001b[0;34m,\u001b[0m\u001b[0mmeas_results\u001b[0m\u001b[0;34m,\u001b[0m\u001b[0mresults\u001b[0m \u001b[0;34m=\u001b[0m \u001b[0mnext\u001b[0m\u001b[0;34m(\u001b[0m\u001b[0mmetrics_generator\u001b[0m\u001b[0;34m)\u001b[0m\u001b[0;34m\u001b[0m\u001b[0;34m\u001b[0m\u001b[0m\n\u001b[0m",
      "\u001b[0;32m~/btk/metrics.py\u001b[0m in \u001b[0;36m__next__\u001b[0;34m(self)\u001b[0m\n\u001b[1;32m    794\u001b[0m                     \u001b[0mtarget_meas\u001b[0m\u001b[0;34m[\u001b[0m\u001b[0mk\u001b[0m\u001b[0;34m]\u001b[0m \u001b[0;34m=\u001b[0m \u001b[0;32mlambda\u001b[0m \u001b[0mx\u001b[0m\u001b[0;34m:\u001b[0m \u001b[0mself\u001b[0m\u001b[0;34m.\u001b[0m\u001b[0mtarget_meas\u001b[0m\u001b[0;34m[\u001b[0m\u001b[0mk\u001b[0m\u001b[0;34m]\u001b[0m\u001b[0;34m(\u001b[0m\u001b[0mx\u001b[0m\u001b[0;34m,\u001b[0m \u001b[0madditional_params\u001b[0m\u001b[0;34m)\u001b[0m\u001b[0;34m\u001b[0m\u001b[0;34m\u001b[0m\u001b[0m\n\u001b[1;32m    795\u001b[0m \u001b[0;34m\u001b[0m\u001b[0m\n\u001b[0;32m--> 796\u001b[0;31m                 metrics_results_f = compute_metrics(\n\u001b[0m\u001b[1;32m    797\u001b[0m                     \u001b[0mblend_results\u001b[0m\u001b[0;34m[\u001b[0m\u001b[0;34m\"isolated_images\"\u001b[0m\u001b[0;34m]\u001b[0m\u001b[0;34m,\u001b[0m\u001b[0;34m\u001b[0m\u001b[0;34m\u001b[0m\u001b[0m\n\u001b[1;32m    798\u001b[0m                     \u001b[0mblend_results\u001b[0m\u001b[0;34m[\u001b[0m\u001b[0;34m\"blend_list\"\u001b[0m\u001b[0;34m]\u001b[0m\u001b[0;34m,\u001b[0m\u001b[0;34m\u001b[0m\u001b[0;34m\u001b[0m\u001b[0m\n",
      "\u001b[0;32m~/btk/metrics.py\u001b[0m in \u001b[0;36mcompute_metrics\u001b[0;34m(isolated_images, blend_list, detection_catalogs, segmentations, deblended_images, noise_threshold, meas_band_num, target_meas, channels_last, save_path, f_distance, distance_threshold_match)\u001b[0m\n\u001b[1;32m    635\u001b[0m     \u001b[0;32mif\u001b[0m \u001b[0mdeblended_images\u001b[0m \u001b[0;32mis\u001b[0m \u001b[0;32mnot\u001b[0m \u001b[0;32mNone\u001b[0m\u001b[0;34m:\u001b[0m\u001b[0;34m\u001b[0m\u001b[0;34m\u001b[0m\u001b[0m\n\u001b[1;32m    636\u001b[0m         \u001b[0mto_save_keys\u001b[0m\u001b[0;34m.\u001b[0m\u001b[0mappend\u001b[0m\u001b[0;34m(\u001b[0m\u001b[0;34m\"reconstruction\"\u001b[0m\u001b[0;34m)\u001b[0m\u001b[0;34m\u001b[0m\u001b[0;34m\u001b[0m\u001b[0m\n\u001b[0;32m--> 637\u001b[0;31m         results[\"reconstruction\"] = reconstruction_metrics(\n\u001b[0m\u001b[1;32m    638\u001b[0m             \u001b[0misolated_images\u001b[0m\u001b[0;34m,\u001b[0m\u001b[0;34m\u001b[0m\u001b[0;34m\u001b[0m\u001b[0m\n\u001b[1;32m    639\u001b[0m             \u001b[0mdeblended_images\u001b[0m\u001b[0;34m,\u001b[0m\u001b[0;34m\u001b[0m\u001b[0;34m\u001b[0m\u001b[0m\n",
      "\u001b[0;32m~/btk/metrics.py\u001b[0m in \u001b[0;36mreconstruction_metrics\u001b[0;34m(isolated_images, deblended_images, matches, target_meas)\u001b[0m\n\u001b[1;32m    516\u001b[0m             \u001b[0mssim_blend_results\u001b[0m\u001b[0;34m,\u001b[0m\u001b[0;34m\u001b[0m\u001b[0;34m\u001b[0m\u001b[0m\n\u001b[1;32m    517\u001b[0m             \u001b[0mtarget_meas_blend_results\u001b[0m\u001b[0;34m,\u001b[0m\u001b[0;34m\u001b[0m\u001b[0;34m\u001b[0m\u001b[0m\n\u001b[0;32m--> 518\u001b[0;31m         \u001b[0;34m)\u001b[0m \u001b[0;34m=\u001b[0m \u001b[0mreconstruction_metrics_blend\u001b[0m\u001b[0;34m(\u001b[0m\u001b[0;34m\u001b[0m\u001b[0;34m\u001b[0m\u001b[0m\n\u001b[0m\u001b[1;32m    519\u001b[0m             \u001b[0misolated_images\u001b[0m\u001b[0;34m[\u001b[0m\u001b[0mi\u001b[0m\u001b[0;34m]\u001b[0m\u001b[0;34m,\u001b[0m \u001b[0mdeblended_images\u001b[0m\u001b[0;34m[\u001b[0m\u001b[0mi\u001b[0m\u001b[0;34m]\u001b[0m\u001b[0;34m,\u001b[0m \u001b[0mmatches\u001b[0m\u001b[0;34m[\u001b[0m\u001b[0mi\u001b[0m\u001b[0;34m]\u001b[0m\u001b[0;34m,\u001b[0m \u001b[0mtarget_meas\u001b[0m\u001b[0;34m,\u001b[0m \u001b[0mtarget_meas_keys\u001b[0m\u001b[0;34m\u001b[0m\u001b[0;34m\u001b[0m\u001b[0m\n\u001b[1;32m    520\u001b[0m         )\n",
      "\u001b[0;32m~/btk/metrics.py\u001b[0m in \u001b[0;36mreconstruction_metrics_blend\u001b[0;34m(isolated_images, deblended_images, matches, target_meas, target_meas_keys)\u001b[0m\n\u001b[1;32m    433\u001b[0m             )\n\u001b[1;32m    434\u001b[0m             ssim_blend_results.append(\n\u001b[0;32m--> 435\u001b[0;31m                 skimage.metrics.structural_similarity(\n\u001b[0m\u001b[1;32m    436\u001b[0m                     \u001b[0mnp\u001b[0m\u001b[0;34m.\u001b[0m\u001b[0mmoveaxis\u001b[0m\u001b[0;34m(\u001b[0m\u001b[0misolated_images\u001b[0m\u001b[0;34m[\u001b[0m\u001b[0mj\u001b[0m\u001b[0;34m]\u001b[0m\u001b[0;34m,\u001b[0m \u001b[0;36m0\u001b[0m\u001b[0;34m,\u001b[0m \u001b[0;34m-\u001b[0m\u001b[0;36m1\u001b[0m\u001b[0;34m)\u001b[0m\u001b[0;34m,\u001b[0m\u001b[0;34m\u001b[0m\u001b[0;34m\u001b[0m\u001b[0m\n\u001b[1;32m    437\u001b[0m                     \u001b[0mnp\u001b[0m\u001b[0;34m.\u001b[0m\u001b[0mmoveaxis\u001b[0m\u001b[0;34m(\u001b[0m\u001b[0mdeblended_images\u001b[0m\u001b[0;34m[\u001b[0m\u001b[0mmatch_detected\u001b[0m\u001b[0;34m]\u001b[0m\u001b[0;34m,\u001b[0m \u001b[0;36m0\u001b[0m\u001b[0;34m,\u001b[0m \u001b[0;34m-\u001b[0m\u001b[0;36m1\u001b[0m\u001b[0;34m)\u001b[0m\u001b[0;34m,\u001b[0m\u001b[0;34m\u001b[0m\u001b[0;34m\u001b[0m\u001b[0m\n",
      "\u001b[0;32m~/anaconda3/envs/downgrade/lib/python3.8/site-packages/skimage/metrics/_structural_similarity.py\u001b[0m in \u001b[0;36mstructural_similarity\u001b[0;34m(im1, im2, win_size, gradient, data_range, multichannel, gaussian_weights, full, **kwargs)\u001b[0m\n\u001b[1;32m    150\u001b[0m \u001b[0;34m\u001b[0m\u001b[0m\n\u001b[1;32m    151\u001b[0m     \u001b[0;32mif\u001b[0m \u001b[0mnp\u001b[0m\u001b[0;34m.\u001b[0m\u001b[0many\u001b[0m\u001b[0;34m(\u001b[0m\u001b[0;34m(\u001b[0m\u001b[0mnp\u001b[0m\u001b[0;34m.\u001b[0m\u001b[0masarray\u001b[0m\u001b[0;34m(\u001b[0m\u001b[0mim1\u001b[0m\u001b[0;34m.\u001b[0m\u001b[0mshape\u001b[0m\u001b[0;34m)\u001b[0m \u001b[0;34m-\u001b[0m \u001b[0mwin_size\u001b[0m\u001b[0;34m)\u001b[0m \u001b[0;34m<\u001b[0m \u001b[0;36m0\u001b[0m\u001b[0;34m)\u001b[0m\u001b[0;34m:\u001b[0m\u001b[0;34m\u001b[0m\u001b[0;34m\u001b[0m\u001b[0m\n\u001b[0;32m--> 152\u001b[0;31m         raise ValueError(\n\u001b[0m\u001b[1;32m    153\u001b[0m             \u001b[0;34m\"win_size exceeds image extent.  If the input is a multichannel \"\u001b[0m\u001b[0;34m\u001b[0m\u001b[0;34m\u001b[0m\u001b[0m\n\u001b[1;32m    154\u001b[0m             \"(color) image, set multichannel=True.\")\n",
      "\u001b[0;31mValueError\u001b[0m: win_size exceeds image extent.  If the input is a multichannel (color) image, set multichannel=True."
     ]
    }
   ],
   "source": [
    "import btk.metrics\n",
    "import btk.plot_utils\n",
    "\n",
    "metrics_generator = btk.metrics.MetricsGenerator(meas_generator,\n",
    "                                                 target_meas={\"ellipticity\":btk.metrics.meas_ksb_ellipticity}, #See custom-tutorial for more details\n",
    "                                                 meas_band_num=0)\n",
    "blend_results,meas_results,results = next(metrics_generator)"
   ]
  },
  {
   "cell_type": "markdown",
   "metadata": {},
   "source": [
    "Once we got the results, we can plot them using functions found in the ``plot_utils`` module. While you can access all the raw data with the keys ``\"detection\"``, ``\"segmentation\"`` and ``\"reconstruction\"``, you can directly access all the segmentation and reconstruction metrics with the ``\"galaxy_summary\"`` key, which contains an astropy Table with all galaxies from all blends and the associated parameters and metrics.\n",
    "\n",
    " We can use the ``plot_metrics_summary`` to easily plot the results from the metrics."
   ]
  },
  {
   "cell_type": "code",
   "execution_count": null,
   "metadata": {
    "tags": [
     "nbval-ignore-output"
    ]
   },
   "outputs": [],
   "source": [
    "btk.plot_utils.plot_metrics_summary(results,interactive=True, target_meas_keys=['ellipticity0'], target_meas_limits=[(-1, 1)])"
   ]
  },
  {
   "cell_type": "markdown",
   "metadata": {},
   "source": [
    "We can also use the matches from the metrics to plot the isolated galaxy images along with the matching deblended galaxies:"
   ]
  },
  {
   "cell_type": "code",
   "execution_count": 18,
   "metadata": {},
   "outputs": [
    {
     "ename": "NameError",
     "evalue": "name 'results' is not defined",
     "output_type": "error",
     "traceback": [
      "\u001b[0;31m---------------------------------------------------------------------------\u001b[0m",
      "\u001b[0;31mNameError\u001b[0m                                 Traceback (most recent call last)",
      "\u001b[0;32m/tmp/ipykernel_416/2916736733.py\u001b[0m in \u001b[0;36m<module>\u001b[0;34m\u001b[0m\n\u001b[1;32m      5\u001b[0m     \u001b[0mmeas_results\u001b[0m\u001b[0;34m[\u001b[0m\u001b[0;34m\"catalog\"\u001b[0m\u001b[0;34m]\u001b[0m\u001b[0;34m[\u001b[0m\u001b[0;34m\"sep_measure\"\u001b[0m\u001b[0;34m]\u001b[0m\u001b[0;34m,\u001b[0m\u001b[0;34m\u001b[0m\u001b[0;34m\u001b[0m\u001b[0m\n\u001b[1;32m      6\u001b[0m     \u001b[0mmeas_results\u001b[0m\u001b[0;34m[\u001b[0m\u001b[0;34m\"deblended_images\"\u001b[0m\u001b[0;34m]\u001b[0m\u001b[0;34m[\u001b[0m\u001b[0;34m\"sep_measure\"\u001b[0m\u001b[0;34m]\u001b[0m\u001b[0;34m,\u001b[0m\u001b[0;34m\u001b[0m\u001b[0;34m\u001b[0m\u001b[0m\n\u001b[0;32m----> 7\u001b[0;31m     \u001b[0mresults\u001b[0m\u001b[0;34m[\u001b[0m\u001b[0;34m\"matches\"\u001b[0m\u001b[0;34m]\u001b[0m\u001b[0;34m[\u001b[0m\u001b[0;34m\"sep_measure\"\u001b[0m\u001b[0;34m]\u001b[0m\u001b[0;34m,\u001b[0m\u001b[0;34m\u001b[0m\u001b[0;34m\u001b[0m\u001b[0m\n\u001b[0m\u001b[1;32m      8\u001b[0m     \u001b[0mindexes\u001b[0m\u001b[0;34m=\u001b[0m\u001b[0mlist\u001b[0m\u001b[0;34m(\u001b[0m\u001b[0mrange\u001b[0m\u001b[0;34m(\u001b[0m\u001b[0;36m5\u001b[0m\u001b[0;34m)\u001b[0m\u001b[0;34m)\u001b[0m\u001b[0;34m,\u001b[0m\u001b[0;34m\u001b[0m\u001b[0;34m\u001b[0m\u001b[0m\n\u001b[1;32m      9\u001b[0m     \u001b[0mband_indices\u001b[0m\u001b[0;34m=\u001b[0m\u001b[0;34m[\u001b[0m\u001b[0;36m1\u001b[0m\u001b[0;34m,\u001b[0m \u001b[0;36m2\u001b[0m\u001b[0;34m,\u001b[0m \u001b[0;36m3\u001b[0m\u001b[0;34m]\u001b[0m\u001b[0;34m\u001b[0m\u001b[0;34m\u001b[0m\u001b[0m\n",
      "\u001b[0;31mNameError\u001b[0m: name 'results' is not defined"
     ]
    }
   ],
   "source": [
    "btk.plot_utils.plot_with_deblended(\n",
    "    blend_results[\"blend_images\"],\n",
    "    blend_results[\"isolated_images\"],\n",
    "    blend_results[\"blend_list\"],\n",
    "    meas_results[\"catalog\"][\"sep_measure\"],\n",
    "    meas_results[\"deblended_images\"][\"sep_measure\"],\n",
    "    results[\"matches\"][\"sep_measure\"],\n",
    "    indexes=list(range(5)),\n",
    "    band_indices=[1, 2, 3]\n",
    ")\n"
   ]
  },
  {
   "cell_type": "markdown",
   "metadata": {},
   "source": [
    "## Saving the results\n",
    "\n",
    "You may wish to save the results of a run of BTK for later use ; or use BTK from the command line (cf documentation) and retrieve the results in a python file later. Here we will show how to save and load the results.\n",
    "\n",
    "Saving the results can be automatically achieved by providing the save_path argument to the three generators. It can either be a string or use the os.path API. The folder designated by the path must already exist."
   ]
  },
  {
   "cell_type": "code",
   "execution_count": 15,
   "metadata": {
    "tags": [
     "nbval-skip"
    ]
   },
   "outputs": [],
   "source": [
    "import tempfile\n",
    "save_path = \"output/blends\" # Temporary directory. You can specify your own with a usual \"/path/to/folder\" syntax\n",
    "\n",
    "draw_generator = btk.draw_blends.CosmosGenerator(\n",
    "    catalog,\n",
    "    sampling_function,\n",
    "    Rubin,\n",
    "    batch_size=100,\n",
    "    stamp_size=stamp_size,\n",
    "    cpus=1,\n",
    "    add_noise='all',\n",
    "    save_path=save_path\n",
    ")\n",
    "meas_generator = btk.measure.MeasureGenerator(btk.measure.sep_measure,draw_generator,save_path=save_path)\n",
    "metrics_generator = btk.metrics.MetricsGenerator(meas_generator,\n",
    "                                                 target_meas={\"ellipticity\":btk.metrics.meas_ksb_ellipticity},\n",
    "                                                 meas_band_num=0,\n",
    "                                                 save_path=save_path)"
   ]
  },
  {
   "cell_type": "code",
   "execution_count": null,
   "metadata": {
    "tags": [
     "nbval-skip"
    ]
   },
   "outputs": [],
   "source": [
    "blend_results,meas_results,results = next(metrics_generator)"
   ]
  },
  {
   "cell_type": "markdown",
   "metadata": {},
   "source": [
    "To load the results, you can use the `load_all_results` function ; you need to provide it with the name of the surveys and of the measure functions you used when saving the images, as well as the size of the batch."
   ]
  },
  {
   "cell_type": "code",
   "execution_count": null,
   "metadata": {
    "tags": [
     "nbval-skip"
    ]
   },
   "outputs": [],
   "source": [
    "blend_results,meas_results,results = btk.utils.load_all_results(save_path,[\"Rubin\"],[\"sep_measure\"],n_batch=100)"
   ]
  }
 ],
 "metadata": {
  "celltoolbar": "Tags",
  "kernelspec": {
   "display_name": "Python 3 (ipykernel)",
   "language": "python",
   "name": "python3"
  },
  "language_info": {
   "codemirror_mode": {
    "name": "ipython",
    "version": 3
   },
   "file_extension": ".py",
   "mimetype": "text/x-python",
   "name": "python",
   "nbconvert_exporter": "python",
   "pygments_lexer": "ipython3",
   "version": "3.8.12"
  },
  "latex_envs": {
   "LaTeX_envs_menu_present": true,
   "autoclose": false,
   "autocomplete": true,
   "bibliofile": "biblio.bib",
   "cite_by": "apalike",
   "current_citInitial": 1,
   "eqLabelWithNumbers": true,
   "eqNumInitial": 1,
   "hotkeys": {
    "equation": "meta-shift-y"
   },
   "labels_anchors": false,
   "latex_user_defs": false,
   "report_style_numbering": false,
   "user_envs_cfg": false
  },
  "toc": {
   "base_numbering": 1,
   "nav_menu": {},
   "number_sections": true,
   "sideBar": true,
   "skip_h1_title": false,
   "title_cell": "Table of Contents",
   "title_sidebar": "Contents",
   "toc_cell": false,
   "toc_position": {
    "height": "811.109375px",
    "left": "34px",
    "top": "110px",
    "width": "213.75px"
   },
   "toc_section_display": true,
   "toc_window_display": true
  },
  "toc-autonumbering": true,
  "toc-showcode": false,
  "toc-showmarkdowntxt": false,
  "toc-showtags": false
 },
 "nbformat": 4,
 "nbformat_minor": 4
}
