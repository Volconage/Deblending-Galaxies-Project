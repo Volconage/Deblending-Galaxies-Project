{
 "cells": [
  {
   "cell_type": "code",
   "execution_count": 54,
   "id": "3f85ab8f",
   "metadata": {},
   "outputs": [],
   "source": [
    "import numpy as np\n",
    "import matplotlib.pyplot as plt\n",
    "import tensorflow as tf\n",
    "\n",
    "from tensorflow import keras\n",
    "from tensorflow.keras import layers\n",
    "\n",
    "from tensorflow.keras.layers import Conv2D, MaxPooling2D, UpSampling2D, Conv2DTranspose\n",
    "from tensorflow.keras.layers import Input, Dense, Flatten, Lambda, Reshape\n",
    "from tensorflow.keras.models import Model\n",
    "from tensorflow.keras.optimizers import Adam\n",
    "from tensorflow.keras.losses import mse\n",
    "\n",
    "tf.random.set_seed(1)"
   ]
  },
  {
   "cell_type": "code",
   "execution_count": 55,
   "id": "fde8af21",
   "metadata": {},
   "outputs": [],
   "source": [
    "def showimg(img, ax, title=None, vmin=0, vmax=1):\n",
    "    ax.imshow(img.squeeze(), vmin=vmin, vmax=vmax)\n",
    "    ax.set_title(title)\n",
    "    ax.axis('off')"
   ]
  },
  {
   "cell_type": "code",
   "execution_count": 56,
   "id": "ca362e4b",
   "metadata": {},
   "outputs": [],
   "source": [
    "(train_img0,train_class0),(test_img0,test_class0)=tf.keras.datasets.mnist.load_data()\n",
    "\n",
    "train_img=train_img0[(train_class0==8)]\n",
    "train_img2=train_img0[(train_class0==7)]\n",
    "test_img=test_img0[(test_class0==8)]\n",
    "test_img2=test_img0[(test_class0==7)]\n",
    "\n",
    "height,width=28,28\n",
    "train_img=train_img.reshape(train_img.shape[0],height,width,1).astype('float32')\n",
    "train_img/=255\n",
    "train_img2=train_img2.reshape(train_img2.shape[0],height,width,1).astype('float32')\n",
    "train_img2/=255\n",
    "\n",
    "test_img=test_img.reshape(test_img.shape[0],height,width,1).astype('float32')\n",
    "test_img/=255\n",
    "test_img2=test_img2.reshape(test_img2.shape[0],height,width,1).astype('float32')\n",
    "test_img2/=255\n",
    "\n",
    "train_buffer=60000\n",
    "test_buffer=10000\n",
    "\n",
    "batch_size=100\n",
    "latent_dimensions=32\n",
    "\n",
    "num=60000\n",
    "comps=2\n",
    "\n",
    "beta=0.1"
   ]
  },
  {
   "cell_type": "code",
   "execution_count": 57,
   "id": "bab66bed",
   "metadata": {},
   "outputs": [],
   "source": [
    "from keras.preprocessing.image import ImageDataGenerator\n",
    "def blender(data,data2,file,num=60000):\n",
    "\n",
    "    datagen=ImageDataGenerator(rotation_range=20,width_shift_range=0,height_shift_range=0,\n",
    "                                 shear_range=0.0,zoom_range=[1.2,1.5])\n",
    "    datagen2=ImageDataGenerator(rotation_range=20,width_shift_range=0.5,height_shift_range=0.5,\n",
    "                                 shear_range=0.1,zoom_range=[1.2,1.5])\n",
    "\n",
    "    gen=datagen.flow(data,None,batch_size=1)\n",
    "    gen2=datagen2.flow(data2,None,batch_size=1)\n",
    "\n",
    "    components=np.array([[gen.next()[0, ..., 0] for j in range(num)],[gen2.next()[0, ..., 0] for j in range(num)]])\n",
    "    blended=components.sum(axis=0)\n",
    "    together=[blended,components[0],components[1]]\n",
    "    np.save(file,together)\n",
    "    \n",
    "blender(train_img,train_img2,'blended_set')\n",
    "blender(test_img,test_img2,'blended_set_test')"
   ]
  },
  {
   "cell_type": "code",
   "execution_count": 58,
   "id": "7004d83a",
   "metadata": {},
   "outputs": [
    {
     "data": {
      "text/plain": [
       "((60000, 28, 28), (2, 60000, 28, 28))"
      ]
     },
     "execution_count": 58,
     "metadata": {},
     "output_type": "execute_result"
    }
   ],
   "source": [
    "together=np.load('blended_set.npy')\n",
    "blended,components=together[0],np.array((together[1],together[2]))\n",
    "blended.shape,components.shape\n",
    "\n",
    "validation=np.load('blended_set_test.npy')\n",
    "blended_v,components_v=validation[0],np.array((validation[1],validation[2]))\n",
    "blended_v.shape,components_v.shape"
   ]
  },
  {
   "cell_type": "code",
   "execution_count": 59,
   "id": "76647809",
   "metadata": {},
   "outputs": [],
   "source": [
    "blended=blended.reshape(blended.shape[0],height,width,1).astype('float32')\n",
    "components=components.reshape(2,blended.shape[0],height,width,1).astype('float32')\n",
    "blended_v=blended_v.reshape(blended_v.shape[0],height,width,1).astype('float32')\n",
    "components_v=components_v.reshape(2,blended_v.shape[0],height,width,1).astype('float32')"
   ]
  },
  {
   "cell_type": "code",
   "execution_count": 60,
   "id": "6fb5e229",
   "metadata": {},
   "outputs": [
    {
     "data": {
      "image/png": "[encoded data removed]",
      "text/plain": [
       "<Figure size 1080x720 with 15 Axes>"
      ]
     },
     "metadata": {
      "needs_background": "light"
     },
     "output_type": "display_data"
    }
   ],
   "source": [
    "n=5\n",
    "fig,ax=plt.subplots(3,n,figsize=(3*n, 10))\n",
    "for i in range(n):\n",
    "    showimg(blended[i],ax[0,i],f'blend {i}')\n",
    "    for j in range(comps):\n",
    "        showimg(components[j,i],ax[j+1,i],f'component {j}')  "
   ]
  },
  {
   "cell_type": "code",
   "execution_count": 61,
   "id": "cd397cff",
   "metadata": {},
   "outputs": [],
   "source": [
    "def encoder(x):\n",
    "    x=Conv2D(32,3,activation='relu',padding='same',strides=2)(x)\n",
    "    x=Conv2D(64,3,activation='relu',padding='same',strides=2)(x)\n",
    "    #x=MaxPooling2D(pool_size=(2,2))(x)\n",
    "    return x"
   ]
  },
  {
   "cell_type": "code",
   "execution_count": 62,
   "id": "23e18487",
   "metadata": {},
   "outputs": [],
   "source": [
    "def decoder(x):\n",
    "    #x=UpSampling2D(size=(2,2))(x)\n",
    "    x=Conv2DTranspose(64,3,activation='relu',padding='same',strides=2)(x)\n",
    "    x=Conv2DTranspose(32,3,activation='relu',padding='same',strides=2)(x)\n",
    "    return x"
   ]
  },
  {
   "cell_type": "code",
   "execution_count": 63,
   "id": "9bb0dfdf",
   "metadata": {},
   "outputs": [],
   "source": [
    "def sampling(args):\n",
    "    z_mean,z_log_sigma=args\n",
    "    epsilon=tf.random.normal(shape=tf.shape(z_mean))\n",
    "    z=z_mean+tf.exp(0.5*z_log_sigma)*epsilon\n",
    "    return z"
   ]
  },
  {
   "cell_type": "code",
   "execution_count": 64,
   "id": "ee2b59cb",
   "metadata": {},
   "outputs": [],
   "source": [
    "#encoder\n",
    "inputs=Input(shape=(height,width,1))\n",
    "\n",
    "encoded=encoder(inputs)\n",
    "shape=encoded.get_shape()[1:]\n",
    "encoded=Flatten()(encoded)\n",
    "\n",
    "z_mean=Dense(latent_dimensions)(encoded)\n",
    "z_log_sigma=Dense(latent_dimensions)(encoded)\n",
    "z=Lambda(sampling)([z_mean,z_log_sigma])\n",
    "\n",
    "#decoder\n",
    "input_embed=Input(shape=latent_dimensions)\n",
    "\n",
    "embed1=Dense(np.prod(shape),activation='relu')(input_embed)\n",
    "embed1=Reshape(shape)(embed1)\n",
    "decoded1=decoder(embed1)\n",
    "output1=Conv2DTranspose(1,3,padding='same')(decoded1)"
   ]
  },
  {
   "cell_type": "code",
   "execution_count": 65,
   "id": "5f9314ed",
   "metadata": {
    "scrolled": false
   },
   "outputs": [
    {
     "name": "stdout",
     "output_type": "stream",
     "text": [
      "Model: \"functional_21\"\n",
      "__________________________________________________________________________________________________\n",
      "Layer (type)                    Output Shape         Param #     Connected to                     \n",
      "==================================================================================================\n",
      "input_9 (InputLayer)            [(None, 28, 28, 1)]  0                                            \n",
      "__________________________________________________________________________________________________\n",
      "conv2d_8 (Conv2D)               (None, 14, 14, 32)   320         input_9[0][0]                    \n",
      "__________________________________________________________________________________________________\n",
      "conv2d_9 (Conv2D)               (None, 7, 7, 64)     18496       conv2d_8[0][0]                   \n",
      "__________________________________________________________________________________________________\n",
      "flatten_4 (Flatten)             (None, 3136)         0           conv2d_9[0][0]                   \n",
      "__________________________________________________________________________________________________\n",
      "dense_10 (Dense)                (None, 32)           100384      flatten_4[0][0]                  \n",
      "__________________________________________________________________________________________________\n",
      "dense_11 (Dense)                (None, 32)           100384      flatten_4[0][0]                  \n",
      "__________________________________________________________________________________________________\n",
      "lambda_4 (Lambda)               (None, 32)           0           dense_10[0][0]                   \n",
      "                                                                 dense_11[0][0]                   \n",
      "==================================================================================================\n",
      "Total params: 219,584\n",
      "Trainable params: 219,584\n",
      "Non-trainable params: 0\n",
      "__________________________________________________________________________________________________\n",
      "Model: \"functional_23\"\n",
      "_________________________________________________________________\n",
      "Layer (type)                 Output Shape              Param #   \n",
      "=================================================================\n",
      "input_10 (InputLayer)        [(None, 32)]              0         \n",
      "_________________________________________________________________\n",
      "dense_12 (Dense)             (None, 3136)              103488    \n",
      "_________________________________________________________________\n",
      "reshape_2 (Reshape)          (None, 7, 7, 64)          0         \n",
      "_________________________________________________________________\n",
      "conv2d_transpose_6 (Conv2DTr (None, 14, 14, 64)        36928     \n",
      "_________________________________________________________________\n",
      "conv2d_transpose_7 (Conv2DTr (None, 28, 28, 32)        18464     \n",
      "_________________________________________________________________\n",
      "conv2d_transpose_8 (Conv2DTr (None, 28, 28, 1)         289       \n",
      "=================================================================\n",
      "Total params: 159,169\n",
      "Trainable params: 159,169\n",
      "Non-trainable params: 0\n",
      "_________________________________________________________________\n"
     ]
    }
   ],
   "source": [
    "encode=Model(inputs,z)\n",
    "encode.summary()\n",
    "\n",
    "decode=Model([input_embed],[output1])\n",
    "decode.summary()"
   ]
  },
  {
   "cell_type": "code",
   "execution_count": 66,
   "id": "c477029f",
   "metadata": {},
   "outputs": [
    {
     "name": "stdout",
     "output_type": "stream",
     "text": [
      "Model: \"functional_25\"\n",
      "_________________________________________________________________\n",
      "Layer (type)                 Output Shape              Param #   \n",
      "=================================================================\n",
      "input_9 (InputLayer)         [(None, 28, 28, 1)]       0         \n",
      "_________________________________________________________________\n",
      "functional_21 (Functional)   (None, 32)                219584    \n",
      "_________________________________________________________________\n",
      "functional_23 (Functional)   (None, 28, 28, 1)         159169    \n",
      "=================================================================\n",
      "Total params: 378,753\n",
      "Trainable params: 378,753\n",
      "Non-trainable params: 0\n",
      "_________________________________________________________________\n"
     ]
    }
   ],
   "source": [
    "encoding=encode(inputs) #define the network\n",
    "re=decode([encoding])\n",
    "\n",
    "vae=Model([inputs],[re]) #adds methods of the network\n",
    "vae.summary()"
   ]
  },
  {
   "cell_type": "code",
   "execution_count": 67,
   "id": "cfee74d9",
   "metadata": {},
   "outputs": [],
   "source": [
    "mse_loss=tf.reduce_mean(mse(inputs,re))*height*width\n",
    "vae.add_loss(mse_loss)\n",
    "vae.add_metric(mse_loss,'mse_loss')\n",
    "\n",
    "kl_loss=tf.reduce_mean(-0.5*(1+z_log_sigma-tf.square(z_mean)-tf.exp(z_log_sigma)))*beta\n",
    "vae.add_loss(kl_loss)\n",
    "vae.add_metric(kl_loss,'kl_loss')\n",
    "\n",
    "vae.compile(optimizer=Adam(learning_rate=0.001))"
   ]
  },
  {
   "cell_type": "code",
   "execution_count": 68,
   "id": "9c0cb3a4",
   "metadata": {
    "scrolled": true
   },
   "outputs": [
    {
     "name": "stdout",
     "output_type": "stream",
     "text": [
      "Epoch 1/5\n",
      "600/600 [==============================] - 30s 50ms/step - loss: 8.5373 - mse_loss: 8.2472 - kl_loss: 0.2900\n",
      "Epoch 2/5\n",
      "600/600 [==============================] - 30s 49ms/step - loss: 2.5478 - mse_loss: 2.2297 - kl_loss: 0.3182\n",
      "Epoch 3/5\n",
      "600/600 [==============================] - 29s 49ms/step - loss: 2.0840 - mse_loss: 1.7673 - kl_loss: 0.3167\n",
      "Epoch 4/5\n",
      "600/600 [==============================] - 30s 50ms/step - loss: 1.8658 - mse_loss: 1.5498 - kl_loss: 0.3160\n",
      "Epoch 5/5\n",
      "600/600 [==============================] - 31s 51ms/step - loss: 1.7409 - mse_loss: 1.4252 - kl_loss: 0.3157\n"
     ]
    }
   ],
   "source": [
    "history=vae.fit(components[0],verbose=1,epochs=5,batch_size=batch_size)"
   ]
  },
  {
   "cell_type": "code",
   "execution_count": 69,
   "id": "b05812f9",
   "metadata": {},
   "outputs": [],
   "source": [
    "def summary_plot(n,inputs,decode,seed=1):\n",
    "    np.random.seed(seed)\n",
    "    #idx=np.array([0,1,2,3,4])\n",
    "    idx = np.random.choice(len(inputs[0]), size=n, replace=False)\n",
    "    print(idx)\n",
    "    input_img = inputs[idx]\n",
    "    z = encode.predict(input_img)\n",
    "    output_img = decode.predict([z])\n",
    "    fig, ax = plt.subplots(2, n, figsize=((3)*n,15))\n",
    "    for i in range(n):\n",
    "        encoding = ', '.join(f'{zi:.2f}' for zi in z[i][:3]) + ', ...'\n",
    "        showimg(input_img[i], ax[0, i], f'blend {idx[i]}')\n",
    "        showimg(output_img[i], ax[1, i], f'output\\n{encoding}')\n",
    "    return idx"
   ]
  },
  {
   "cell_type": "code",
   "execution_count": 70,
   "id": "fa131cb0",
   "metadata": {
    "scrolled": false
   },
   "outputs": [
    {
     "name": "stdout",
     "output_type": "stream",
     "text": [
      "[24 17 19 20 14]\n",
      "WARNING:tensorflow:6 out of the last 7 calls to <function Model.make_predict_function.<locals>.predict_function at 0x000001B791B39820> triggered tf.function retracing. Tracing is expensive and the excessive number of tracings could be due to (1) creating @tf.function repeatedly in a loop, (2) passing tensors with different shapes, (3) passing Python objects instead of tensors. For (1), please define your @tf.function outside of the loop. For (2), @tf.function has experimental_relax_shapes=True option that relaxes argument shapes that can avoid unnecessary retracing. For (3), please refer to https://www.tensorflow.org/tutorials/customization/performance#python_or_tensor_args and https://www.tensorflow.org/api_docs/python/tf/function for  more details.\n",
      "WARNING:tensorflow:7 out of the last 8 calls to <function Model.make_predict_function.<locals>.predict_function at 0x000001B79563F550> triggered tf.function retracing. Tracing is expensive and the excessive number of tracings could be due to (1) creating @tf.function repeatedly in a loop, (2) passing tensors with different shapes, (3) passing Python objects instead of tensors. For (1), please define your @tf.function outside of the loop. For (2), @tf.function has experimental_relax_shapes=True option that relaxes argument shapes that can avoid unnecessary retracing. For (3), please refer to https://www.tensorflow.org/tutorials/customization/performance#python_or_tensor_args and https://www.tensorflow.org/api_docs/python/tf/function for  more details.\n"
     ]
    },
    {
     "data": {
      "image/png": "[encoded data removed]",
      "text/plain": [
       "<Figure size 1080x1080 with 10 Axes>"
      ]
     },
     "metadata": {
      "needs_background": "light"
     },
     "output_type": "display_data"
    }
   ],
   "source": [
    "chosen=summary_plot(n,components[0],decode)"
   ]
  },
  {
   "cell_type": "code",
   "execution_count": 71,
   "id": "af5df159",
   "metadata": {},
   "outputs": [],
   "source": [
    "#encoder2\n",
    "inputs2=Input(shape=(height,width,1))\n",
    "\n",
    "encoded2=encoder(inputs2)\n",
    "shape=encoded2.get_shape()[1:]\n",
    "encoded2=Flatten()(encoded2)\n",
    "\n",
    "z_mean2=Dense(latent_dimensions)(encoded2)\n",
    "z_log_sigma2=Dense(latent_dimensions)(encoded2)\n",
    "z2=Lambda(sampling)([z_mean2,z_log_sigma2])"
   ]
  },
  {
   "cell_type": "code",
   "execution_count": 72,
   "id": "14ef6a5b",
   "metadata": {
    "scrolled": true
   },
   "outputs": [
    {
     "name": "stdout",
     "output_type": "stream",
     "text": [
      "Model: \"functional_27\"\n",
      "__________________________________________________________________________________________________\n",
      "Layer (type)                    Output Shape         Param #     Connected to                     \n",
      "==================================================================================================\n",
      "input_11 (InputLayer)           [(None, 28, 28, 1)]  0                                            \n",
      "__________________________________________________________________________________________________\n",
      "conv2d_10 (Conv2D)              (None, 14, 14, 32)   320         input_11[0][0]                   \n",
      "__________________________________________________________________________________________________\n",
      "conv2d_11 (Conv2D)              (None, 7, 7, 64)     18496       conv2d_10[0][0]                  \n",
      "__________________________________________________________________________________________________\n",
      "flatten_5 (Flatten)             (None, 3136)         0           conv2d_11[0][0]                  \n",
      "__________________________________________________________________________________________________\n",
      "dense_13 (Dense)                (None, 32)           100384      flatten_5[0][0]                  \n",
      "__________________________________________________________________________________________________\n",
      "dense_14 (Dense)                (None, 32)           100384      flatten_5[0][0]                  \n",
      "__________________________________________________________________________________________________\n",
      "lambda_5 (Lambda)               (None, 32)           0           dense_13[0][0]                   \n",
      "                                                                 dense_14[0][0]                   \n",
      "==================================================================================================\n",
      "Total params: 219,584\n",
      "Trainable params: 219,584\n",
      "Non-trainable params: 0\n",
      "__________________________________________________________________________________________________\n",
      "Model: \"functional_23\"\n",
      "_________________________________________________________________\n",
      "Layer (type)                 Output Shape              Param #   \n",
      "=================================================================\n",
      "input_10 (InputLayer)        [(None, 32)]              0         \n",
      "_________________________________________________________________\n",
      "dense_12 (Dense)             (None, 3136)              103488    \n",
      "_________________________________________________________________\n",
      "reshape_2 (Reshape)          (None, 7, 7, 64)          0         \n",
      "_________________________________________________________________\n",
      "conv2d_transpose_6 (Conv2DTr (None, 14, 14, 64)        36928     \n",
      "_________________________________________________________________\n",
      "conv2d_transpose_7 (Conv2DTr (None, 28, 28, 32)        18464     \n",
      "_________________________________________________________________\n",
      "conv2d_transpose_8 (Conv2DTr (None, 28, 28, 1)         289       \n",
      "=================================================================\n",
      "Total params: 159,169\n",
      "Trainable params: 0\n",
      "Non-trainable params: 159,169\n",
      "_________________________________________________________________\n"
     ]
    }
   ],
   "source": [
    "encode2=Model(inputs2,z2)\n",
    "encode2.summary()\n",
    "\n",
    "input_compc=Input(shape=(height,width,1))\n",
    "\n",
    "for layer in decode.layers:\n",
    "    layer.trainable=False\n",
    "\n",
    "decode.summary()"
   ]
  },
  {
   "cell_type": "code",
   "execution_count": 73,
   "id": "ab4a33fb",
   "metadata": {
    "scrolled": false
   },
   "outputs": [
    {
     "name": "stdout",
     "output_type": "stream",
     "text": [
      "Model: \"functional_29\"\n",
      "__________________________________________________________________________________________________\n",
      "Layer (type)                    Output Shape         Param #     Connected to                     \n",
      "==================================================================================================\n",
      "input_11 (InputLayer)           [(None, 28, 28, 1)]  0                                            \n",
      "__________________________________________________________________________________________________\n",
      "functional_27 (Functional)      (None, 32)           219584      input_11[0][0]                   \n",
      "__________________________________________________________________________________________________\n",
      "input_12 (InputLayer)           [(None, 28, 28, 1)]  0                                            \n",
      "__________________________________________________________________________________________________\n",
      "functional_23 (Functional)      (None, 28, 28, 1)    159169      functional_27[0][0]              \n",
      "==================================================================================================\n",
      "Total params: 378,753\n",
      "Trainable params: 219,584\n",
      "Non-trainable params: 159,169\n",
      "__________________________________________________________________________________________________\n"
     ]
    }
   ],
   "source": [
    "encoding2=encode2(inputs2) #define the network\n",
    "re2=decode([encoding2])\n",
    "\n",
    "vae=Model([inputs2,input_compc],[re2]) #adds methods of the network\n",
    "vae.summary()"
   ]
  },
  {
   "cell_type": "code",
   "execution_count": 74,
   "id": "eb83bcef",
   "metadata": {},
   "outputs": [],
   "source": [
    "mse_loss=tf.reduce_mean(mse(input_compc,re2))*height*width\n",
    "vae.add_loss(mse_loss)\n",
    "vae.add_metric(mse_loss,'mse_loss')\n",
    "\n",
    "kl_loss=tf.reduce_mean(-0.5*(1+z_log_sigma2-tf.square(z_mean2)-tf.exp(z_log_sigma2)))*beta\n",
    "vae.add_loss(kl_loss)\n",
    "vae.add_metric(kl_loss,'kl_loss')\n",
    "\n",
    "together=[blended,components[0]]\n",
    "together_v=[blended_v,components_v[0]]\n",
    "\n",
    "vae.compile(optimizer=Adam(learning_rate=0.001))"
   ]
  },
  {
   "cell_type": "code",
   "execution_count": 75,
   "id": "82ebfb04",
   "metadata": {
    "scrolled": false
   },
   "outputs": [
    {
     "name": "stdout",
     "output_type": "stream",
     "text": [
      "Epoch 1/5\n",
      "600/600 [==============================] - 31s 52ms/step - loss: 8.9320 - mse_loss: 8.6238 - kl_loss: 0.3082 - val_loss: 6.0724 - val_mse_loss: 5.7531 - val_kl_loss: 0.3193\n",
      "Epoch 2/5\n",
      "600/600 [==============================] - 31s 51ms/step - loss: 5.5239 - mse_loss: 5.2136 - kl_loss: 0.3103 - val_loss: 5.2730 - val_mse_loss: 4.9600 - val_kl_loss: 0.3130\n",
      "Epoch 3/5\n",
      "600/600 [==============================] - 30s 51ms/step - loss: 4.9839 - mse_loss: 4.6731 - kl_loss: 0.3108 - val_loss: 4.9219 - val_mse_loss: 4.6128 - val_kl_loss: 0.3091\n",
      "Epoch 4/5\n",
      "600/600 [==============================] - 30s 51ms/step - loss: 4.6813 - mse_loss: 4.3711 - kl_loss: 0.3102 - val_loss: 4.7134 - val_mse_loss: 4.3937 - val_kl_loss: 0.3196\n",
      "Epoch 5/5\n",
      "600/600 [==============================] - 30s 51ms/step - loss: 4.4613 - mse_loss: 4.1508 - kl_loss: 0.3105 - val_loss: 4.5325 - val_mse_loss: 4.2205 - val_kl_loss: 0.3119\n"
     ]
    }
   ],
   "source": [
    "history=vae.fit(together,verbose=1,epochs=5,batch_size=batch_size,validation_data=together_v)"
   ]
  },
  {
   "cell_type": "code",
   "execution_count": 130,
   "id": "c68c47db",
   "metadata": {},
   "outputs": [
    {
     "data": {
      "text/plain": [
       "<matplotlib.legend.Legend at 0x1b795c77f40>"
      ]
     },
     "execution_count": 130,
     "metadata": {},
     "output_type": "execute_result"
    },
    {
     "data": {
      "image/png": "[encoded data removed]",
      "text/plain": [
       "<Figure size 432x288 with 1 Axes>"
      ]
     },
     "metadata": {
      "needs_background": "light"
     },
     "output_type": "display_data"
    }
   ],
   "source": [
    "plt.plot(history.history['loss'])\n",
    "plt.plot(history.history['mse_loss'])\n",
    "#plt.plot(history.history['kl_loss'])\n",
    "plt.plot(history.history['val_loss'])\n",
    "plt.title('model loss')\n",
    "plt.ylabel('loss')\n",
    "plt.xlabel('epoch')\n",
    "plt.legend(['loss','mse_loss','kl_loss','val_loss'])"
   ]
  },
  {
   "cell_type": "code",
   "execution_count": 76,
   "id": "9730203b",
   "metadata": {},
   "outputs": [],
   "source": [
    "def summary_plot(n,inputs,decode,seed=1):\n",
    "    np.random.seed(seed)\n",
    "    #idx=np.array([0,1,2,3,4])\n",
    "    idx = np.random.choice(len(inputs[0]), size=n, replace=False)\n",
    "    print(idx)\n",
    "    input_img = inputs[0][idx]\n",
    "    compc=inputs[1][idx]\n",
    "    z = encode.predict(input_img)\n",
    "    output_img = decode.predict([z,compc])\n",
    "    fig, ax = plt.subplots(4, n, figsize=((3)*n,15))\n",
    "    for i in range(n):\n",
    "        encoding = ', '.join(f'{zi:.2f}' for zi in z[i][:3]) + ', ...'\n",
    "        showimg(input_img[i], ax[0, i], f'blend {idx[i]}')\n",
    "        showimg(compc[i], ax[1, i], f'comp1 {idx[i]}')\n",
    "        showimg(output_img[i], ax[2, i], f'output\\n{encoding}')\n",
    "        showimg(output_img[i]-compc[i], ax[3, i], f'output difference')\n",
    "    return idx"
   ]
  },
  {
   "cell_type": "code",
   "execution_count": 77,
   "id": "f8f04450",
   "metadata": {
    "scrolled": false
   },
   "outputs": [
    {
     "name": "stdout",
     "output_type": "stream",
     "text": [
      "[15281 21435 44536 13518 47529]\n",
      "WARNING:tensorflow:8 out of the last 10 calls to <function Model.make_predict_function.<locals>.predict_function at 0x000001B79563F550> triggered tf.function retracing. Tracing is expensive and the excessive number of tracings could be due to (1) creating @tf.function repeatedly in a loop, (2) passing tensors with different shapes, (3) passing Python objects instead of tensors. For (1), please define your @tf.function outside of the loop. For (2), @tf.function has experimental_relax_shapes=True option that relaxes argument shapes that can avoid unnecessary retracing. For (3), please refer to https://www.tensorflow.org/tutorials/customization/performance#python_or_tensor_args and https://www.tensorflow.org/api_docs/python/tf/function for  more details.\n"
     ]
    },
    {
     "data": {
      "image/png": "[encoded data removed]",
      "text/plain": [
       "<Figure size 1080x1080 with 20 Axes>"
      ]
     },
     "metadata": {
      "needs_background": "light"
     },
     "output_type": "display_data"
    }
   ],
   "source": [
    "chosen=summary_plot(n,together,decode)"
   ]
  },
  {
   "cell_type": "code",
   "execution_count": 126,
   "id": "427532a2",
   "metadata": {},
   "outputs": [
    {
     "name": "stdout",
     "output_type": "stream",
     "text": [
      "600/600 [==============================] - 12s 20ms/step - loss: 4.5328 - mse_loss: 4.2209 - kl_loss: 0.3119\n"
     ]
    },
    {
     "ename": "AttributeError",
     "evalue": "'dict' object has no attribute 'history'",
     "output_type": "error",
     "traceback": [
      "\u001b[1;31m---------------------------------------------------------------------------\u001b[0m",
      "\u001b[1;31mAttributeError\u001b[0m                            Traceback (most recent call last)",
      "\u001b[1;32m~\\AppData\\Local\\Temp/ipykernel_13292/3383648464.py\u001b[0m in \u001b[0;36m<module>\u001b[1;34m\u001b[0m\n\u001b[0;32m     12\u001b[0m \u001b[0meval\u001b[0m\u001b[1;33m=\u001b[0m\u001b[0mvae\u001b[0m\u001b[1;33m.\u001b[0m\u001b[0mevaluate\u001b[0m\u001b[1;33m(\u001b[0m\u001b[0mtogether_v\u001b[0m\u001b[1;33m,\u001b[0m\u001b[0mverbose\u001b[0m\u001b[1;33m=\u001b[0m\u001b[1;36m1\u001b[0m\u001b[1;33m,\u001b[0m\u001b[0mbatch_size\u001b[0m\u001b[1;33m=\u001b[0m\u001b[0mbatch_size\u001b[0m\u001b[1;33m,\u001b[0m\u001b[0mreturn_dict\u001b[0m\u001b[1;33m=\u001b[0m\u001b[1;32mTrue\u001b[0m\u001b[1;33m)\u001b[0m\u001b[1;33m\u001b[0m\u001b[1;33m\u001b[0m\u001b[0m\n\u001b[0;32m     13\u001b[0m \u001b[0meval\u001b[0m\u001b[1;33m.\u001b[0m\u001b[0mitems\u001b[0m\u001b[1;33m(\u001b[0m\u001b[1;33m)\u001b[0m\u001b[1;33m\u001b[0m\u001b[1;33m\u001b[0m\u001b[0m\n\u001b[1;32m---> 14\u001b[1;33m \u001b[0mplt\u001b[0m\u001b[1;33m.\u001b[0m\u001b[0mplot\u001b[0m\u001b[1;33m(\u001b[0m\u001b[0meval\u001b[0m\u001b[1;33m.\u001b[0m\u001b[0mhistory\u001b[0m\u001b[1;33m[\u001b[0m\u001b[1;34m'mse_loss'\u001b[0m\u001b[1;33m]\u001b[0m\u001b[1;33m)\u001b[0m\u001b[1;33m\u001b[0m\u001b[1;33m\u001b[0m\u001b[0m\n\u001b[0m",
      "\u001b[1;31mAttributeError\u001b[0m: 'dict' object has no attribute 'history'"
     ]
    }
   ],
   "source": [
    "together_v=[blended_v,components_v[0]]\n",
    "\n",
    "ite=0\n",
    "\n",
    "input_img=blended_v[ite:ite+1]\n",
    "compc=components_v[0,ite:ite+1]\n",
    "#z=encode.predict(input_img)\n",
    "#output_img=decode.predict([z,compc])\n",
    "\n",
    "#mse_loss_predict=tf.reduce_mean(mse(compc,output_img)*height*width)\n",
    "\n",
    "eval=vae.evaluate(together_v,verbose=1,batch_size=batch_size,return_dict=True)\n",
    "eval.items()"
   ]
  },
  {
   "cell_type": "code",
   "execution_count": null,
   "id": "ea520e21",
   "metadata": {},
   "outputs": [],
   "source": []
  }
 ],
 "metadata": {
  "kernelspec": {
   "display_name": "Python 3 (ipykernel)",
   "language": "python",
   "name": "python3"
  },
  "language_info": {
   "codemirror_mode": {
    "name": "ipython",
    "version": 3
   },
   "file_extension": ".py",
   "mimetype": "text/x-python",
   "name": "python",
   "nbconvert_exporter": "python",
   "pygments_lexer": "ipython3",
   "version": "3.8.12"
  }
 },
 "nbformat": 4,
 "nbformat_minor": 5
}
