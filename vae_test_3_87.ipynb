{
 "cells": [
  {
   "cell_type": "code",
   "execution_count": 1,
   "id": "3f85ab8f",
   "metadata": {},
   "outputs": [],
   "source": [
    "import numpy as np\n",
    "import matplotlib.pyplot as plt\n",
    "import tensorflow as tf\n",
    "\n",
    "from tensorflow import keras\n",
    "from tensorflow.keras import layers\n",
    "\n",
    "from tensorflow.keras.layers import Conv2D, MaxPooling2D, UpSampling2D, Conv2DTranspose\n",
    "from tensorflow.keras.layers import Input, Dense, Flatten, Lambda, Reshape\n",
    "from tensorflow.keras.models import Model\n",
    "from tensorflow.keras.optimizers import Adam\n",
    "from tensorflow.keras.losses import mse\n",
    "\n",
    "tf.random.set_seed(1)"
   ]
  },
  {
   "cell_type": "code",
   "execution_count": 2,
   "id": "fde8af21",
   "metadata": {},
   "outputs": [],
   "source": [
    "def showimg(img, ax, title=None, vmin=0, vmax=1):\n",
    "    ax.imshow(img.squeeze(), vmin=vmin, vmax=vmax)\n",
    "    ax.set_title(title)\n",
    "    ax.axis('off')"
   ]
  },
  {
   "cell_type": "code",
   "execution_count": 3,
   "id": "ca362e4b",
   "metadata": {},
   "outputs": [],
   "source": [
    "(train_img0,train_class0),(test_img,test_class)=tf.keras.datasets.mnist.load_data()\n",
    "\n",
    "train_img=train_img0[(train_class0==8)]\n",
    "train_img2=train_img0[(train_class0==7)]\n",
    "test_img=test_img[(test_class==8) | (test_class==7)]\n",
    "\n",
    "height,width=28,28\n",
    "train_img=train_img.reshape(train_img.shape[0],height,width,1).astype('float32')\n",
    "train_img/=255\n",
    "train_img2=train_img2.reshape(train_img2.shape[0],height,width,1).astype('float32')\n",
    "train_img2/=255\n",
    "\n",
    "test_img=test_img.reshape(test_img.shape[0],height,width,1).astype('float32')\n",
    "test_img/=255\n",
    "\n",
    "train_buffer=60000\n",
    "test_buffer=10000\n",
    "\n",
    "batch_size=100\n",
    "latent_dimensions=32\n",
    "\n",
    "num=60000\n",
    "comps=2"
   ]
  },
  {
   "cell_type": "code",
   "execution_count": 16,
   "id": "bab66bed",
   "metadata": {},
   "outputs": [],
   "source": [
    "from keras.preprocessing.image import ImageDataGenerator\n",
    "\n",
    "datagen=ImageDataGenerator(rotation_range=20,width_shift_range=0,height_shift_range=0,\n",
    "                             shear_range=0.0,zoom_range=[1.2,1.5])\n",
    "datagen2=ImageDataGenerator(rotation_range=20,width_shift_range=0.5,height_shift_range=0.5,\n",
    "                             shear_range=0.1,zoom_range=[1.2,1.5])\n",
    "\n",
    "gen=datagen.flow(train_img,None,batch_size=1)\n",
    "gen2=datagen2.flow(train_img2,None,batch_size=1)\n",
    "\n",
    "components=np.array([[gen.next()[0, ..., 0] for j in range(num)],[gen2.next()[0, ..., 0] for j in range(num)]])\n",
    "blended=components.sum(axis=0)\n",
    "together=[blended,components[0],components[1]]\n",
    "np.save('blended_set',together)"
   ]
  },
  {
   "cell_type": "code",
   "execution_count": 17,
   "id": "7004d83a",
   "metadata": {},
   "outputs": [
    {
     "data": {
      "text/plain": [
       "((60000, 28, 28), (2, 60000, 28, 28))"
      ]
     },
     "execution_count": 17,
     "metadata": {},
     "output_type": "execute_result"
    }
   ],
   "source": [
    "together=np.load('blended_set.npy')\n",
    "blended,components=together[0],np.array((together[1],together[2]))\n",
    "blended.shape,components.shape"
   ]
  },
  {
   "cell_type": "code",
   "execution_count": 18,
   "id": "76647809",
   "metadata": {},
   "outputs": [],
   "source": [
    "blended=blended.reshape(blended.shape[0],height,width,1).astype('float32')\n",
    "components=components.reshape(2,blended.shape[0],height,width,1).astype('float32')"
   ]
  },
  {
   "cell_type": "code",
   "execution_count": 19,
   "id": "6fb5e229",
   "metadata": {},
   "outputs": [
    {
     "data": {
      "image/png": "[encoded data removed]",
      "text/plain": [
       "<Figure size 1080x720 with 15 Axes>"
      ]
     },
     "metadata": {
      "needs_background": "light"
     },
     "output_type": "display_data"
    }
   ],
   "source": [
    "n=5\n",
    "fig,ax=plt.subplots(3,n,figsize=(3*n, 10))\n",
    "for i in range(n):\n",
    "    showimg(blended[i],ax[0,i],f'blend {i}')\n",
    "    for j in range(comps):\n",
    "        showimg(components[j,i],ax[j+1,i],f'component {j}')  "
   ]
  },
  {
   "cell_type": "code",
   "execution_count": 20,
   "id": "cd397cff",
   "metadata": {},
   "outputs": [],
   "source": [
    "def encoder(x):\n",
    "    x=Conv2D(32,3,activation='relu',padding='same',strides=2)(x)\n",
    "    x=Conv2D(64,3,activation='relu',padding='same',strides=2)(x)\n",
    "    #x=MaxPooling2D(pool_size=(2,2))(x)\n",
    "    return x"
   ]
  },
  {
   "cell_type": "code",
   "execution_count": 21,
   "id": "23e18487",
   "metadata": {},
   "outputs": [],
   "source": [
    "def decoder(x):\n",
    "    #x=UpSampling2D(size=(2,2))(x)\n",
    "    x=Conv2DTranspose(64,3,activation='relu',padding='same',strides=2)(x)\n",
    "    x=Conv2DTranspose(32,3,activation='relu',padding='same',strides=2)(x)\n",
    "    return x"
   ]
  },
  {
   "cell_type": "code",
   "execution_count": 22,
   "id": "9bb0dfdf",
   "metadata": {},
   "outputs": [],
   "source": [
    "def sampling(args):\n",
    "    z_mean,z_log_sigma=args\n",
    "    epsilon=tf.random.normal(shape=tf.shape(z_mean))\n",
    "    z=z_mean+tf.exp(0.5*z_log_sigma)*epsilon\n",
    "    return z"
   ]
  },
  {
   "cell_type": "code",
   "execution_count": 23,
   "id": "ee2b59cb",
   "metadata": {},
   "outputs": [],
   "source": [
    "#encoder\n",
    "inputs=Input(shape=(height,width,1))\n",
    "\n",
    "encoded=encoder(inputs)\n",
    "shape=encoded.get_shape()[1:]\n",
    "encoded=Flatten()(encoded)\n",
    "\n",
    "z_mean=Dense(latent_dimensions)(encoded)\n",
    "z_log_sigma=Dense(latent_dimensions)(encoded)\n",
    "z=Lambda(sampling)([z_mean,z_log_sigma])\n",
    "\n",
    "#decoder\n",
    "input_embed=Input(shape=latent_dimensions)\n",
    "\n",
    "embed1=Dense(np.prod(shape),activation='relu')(input_embed)\n",
    "embed1=Reshape(shape)(embed1)\n",
    "decoded1=decoder(embed1)\n",
    "output1=Conv2DTranspose(1,3,padding='same')(decoded1)"
   ]
  },
  {
   "cell_type": "code",
   "execution_count": 24,
   "id": "5f9314ed",
   "metadata": {
    "scrolled": false
   },
   "outputs": [
    {
     "name": "stdout",
     "output_type": "stream",
     "text": [
      "Model: \"functional_1\"\n",
      "__________________________________________________________________________________________________\n",
      "Layer (type)                    Output Shape         Param #     Connected to                     \n",
      "==================================================================================================\n",
      "input_1 (InputLayer)            [(None, 28, 28, 1)]  0                                            \n",
      "__________________________________________________________________________________________________\n",
      "conv2d (Conv2D)                 (None, 14, 14, 32)   320         input_1[0][0]                    \n",
      "__________________________________________________________________________________________________\n",
      "conv2d_1 (Conv2D)               (None, 7, 7, 64)     18496       conv2d[0][0]                     \n",
      "__________________________________________________________________________________________________\n",
      "flatten (Flatten)               (None, 3136)         0           conv2d_1[0][0]                   \n",
      "__________________________________________________________________________________________________\n",
      "dense (Dense)                   (None, 32)           100384      flatten[0][0]                    \n",
      "__________________________________________________________________________________________________\n",
      "dense_1 (Dense)                 (None, 32)           100384      flatten[0][0]                    \n",
      "__________________________________________________________________________________________________\n",
      "lambda (Lambda)                 (None, 32)           0           dense[0][0]                      \n",
      "                                                                 dense_1[0][0]                    \n",
      "==================================================================================================\n",
      "Total params: 219,584\n",
      "Trainable params: 219,584\n",
      "Non-trainable params: 0\n",
      "__________________________________________________________________________________________________\n",
      "Model: \"functional_3\"\n",
      "_________________________________________________________________\n",
      "Layer (type)                 Output Shape              Param #   \n",
      "=================================================================\n",
      "input_2 (InputLayer)         [(None, 32)]              0         \n",
      "_________________________________________________________________\n",
      "dense_2 (Dense)              (None, 3136)              103488    \n",
      "_________________________________________________________________\n",
      "reshape (Reshape)            (None, 7, 7, 64)          0         \n",
      "_________________________________________________________________\n",
      "conv2d_transpose (Conv2DTran (None, 14, 14, 64)        36928     \n",
      "_________________________________________________________________\n",
      "conv2d_transpose_1 (Conv2DTr (None, 28, 28, 32)        18464     \n",
      "_________________________________________________________________\n",
      "conv2d_transpose_2 (Conv2DTr (None, 28, 28, 1)         289       \n",
      "=================================================================\n",
      "Total params: 159,169\n",
      "Trainable params: 159,169\n",
      "Non-trainable params: 0\n",
      "_________________________________________________________________\n"
     ]
    }
   ],
   "source": [
    "encode=Model(inputs,z)\n",
    "encode.summary()\n",
    "\n",
    "decode=Model([input_embed],[output1])\n",
    "decode.summary()"
   ]
  },
  {
   "cell_type": "code",
   "execution_count": 25,
   "id": "c477029f",
   "metadata": {},
   "outputs": [
    {
     "name": "stdout",
     "output_type": "stream",
     "text": [
      "Model: \"functional_5\"\n",
      "_________________________________________________________________\n",
      "Layer (type)                 Output Shape              Param #   \n",
      "=================================================================\n",
      "input_1 (InputLayer)         [(None, 28, 28, 1)]       0         \n",
      "_________________________________________________________________\n",
      "functional_1 (Functional)    (None, 32)                219584    \n",
      "_________________________________________________________________\n",
      "functional_3 (Functional)    (None, 28, 28, 1)         159169    \n",
      "=================================================================\n",
      "Total params: 378,753\n",
      "Trainable params: 378,753\n",
      "Non-trainable params: 0\n",
      "_________________________________________________________________\n"
     ]
    }
   ],
   "source": [
    "encoding=encode(inputs) #define the network\n",
    "re=decode([encoding])\n",
    "\n",
    "vae=Model([inputs],[re]) #adds methods of the network\n",
    "vae.summary()"
   ]
  },
  {
   "cell_type": "code",
   "execution_count": 26,
   "id": "cfee74d9",
   "metadata": {},
   "outputs": [],
   "source": [
    "mse_loss=tf.reduce_mean(mse(inputs,re))*height*width\n",
    "vae.add_loss(mse_loss)\n",
    "vae.add_metric(mse_loss,'mse_loss')\n",
    "\n",
    "beta=0.1\n",
    "kl_loss=tf.reduce_mean(-0.5*(1+z_log_sigma-tf.square(z_mean)-tf.exp(z_log_sigma)))*beta\n",
    "vae.add_loss(kl_loss)\n",
    "vae.add_metric(kl_loss,'kl_loss')\n",
    "\n",
    "vae.compile(optimizer=Adam(learning_rate=0.001))"
   ]
  },
  {
   "cell_type": "code",
   "execution_count": 27,
   "id": "9c0cb3a4",
   "metadata": {
    "scrolled": true
   },
   "outputs": [
    {
     "name": "stdout",
     "output_type": "stream",
     "text": [
      "Epoch 1/5\n",
      "600/600 [==============================] - 30s 50ms/step - loss: 8.6891 - mse_loss: 8.4028 - kl_loss: 0.2863\n",
      "Epoch 2/5\n",
      "600/600 [==============================] - 33s 55ms/step - loss: 2.5497 - mse_loss: 2.2315 - kl_loss: 0.3182\n",
      "Epoch 3/5\n",
      "600/600 [==============================] - 32s 53ms/step - loss: 2.0782 - mse_loss: 1.7618 - kl_loss: 0.3164\n",
      "Epoch 4/5\n",
      "600/600 [==============================] - 32s 53ms/step - loss: 1.8724 - mse_loss: 1.5569 - kl_loss: 0.3155\n",
      "Epoch 5/5\n",
      "600/600 [==============================] - 31s 52ms/step - loss: 1.7425 - mse_loss: 1.4273 - kl_loss: 0.3151\n"
     ]
    }
   ],
   "source": [
    "history=vae.fit(components[0],verbose=1,epochs=5,batch_size=batch_size)"
   ]
  },
  {
   "cell_type": "code",
   "execution_count": 28,
   "id": "b05812f9",
   "metadata": {},
   "outputs": [],
   "source": [
    "def summary_plot(n,inputs,decode,seed=1):\n",
    "    np.random.seed(seed)\n",
    "    #idx=np.array([0,1,2,3,4])\n",
    "    idx = np.random.choice(len(inputs[0]), size=n, replace=False)\n",
    "    print(idx)\n",
    "    input_img = inputs[idx]\n",
    "    z = encode.predict(input_img)\n",
    "    output_img = decode.predict([z])\n",
    "    fig, ax = plt.subplots(2, n, figsize=((3)*n,15))\n",
    "    for i in range(n):\n",
    "        encoding = ', '.join(f'{zi:.2f}' for zi in z[i][:3]) + ', ...'\n",
    "        showimg(input_img[i], ax[0, i], f'blend {idx[i]}')\n",
    "        showimg(output_img[i], ax[1, i], f'output\\n{encoding}')\n",
    "    return idx"
   ]
  },
  {
   "cell_type": "code",
   "execution_count": 29,
   "id": "fa131cb0",
   "metadata": {
    "scrolled": false
   },
   "outputs": [
    {
     "name": "stdout",
     "output_type": "stream",
     "text": [
      "[24 17 19 20 14]\n"
     ]
    },
    {
     "data": {
      "image/png": "[encoded data removed]",
      "text/plain": [
       "<Figure size 1080x1080 with 10 Axes>"
      ]
     },
     "metadata": {
      "needs_background": "light"
     },
     "output_type": "display_data"
    }
   ],
   "source": [
    "chosen=summary_plot(n,components[0],decode)"
   ]
  },
  {
   "cell_type": "code",
   "execution_count": 30,
   "id": "af5df159",
   "metadata": {},
   "outputs": [],
   "source": [
    "#encoder2\n",
    "inputs2=Input(shape=(height,width,1))\n",
    "\n",
    "encoded2=encoder(inputs2)\n",
    "shape=encoded2.get_shape()[1:]\n",
    "encoded2=Flatten()(encoded2)\n",
    "\n",
    "z_mean2=Dense(latent_dimensions)(encoded2)\n",
    "z_log_sigma2=Dense(latent_dimensions)(encoded2)\n",
    "z2=Lambda(sampling)([z_mean2,z_log_sigma2])"
   ]
  },
  {
   "cell_type": "code",
   "execution_count": 31,
   "id": "14ef6a5b",
   "metadata": {
    "scrolled": true
   },
   "outputs": [
    {
     "name": "stdout",
     "output_type": "stream",
     "text": [
      "Model: \"functional_7\"\n",
      "__________________________________________________________________________________________________\n",
      "Layer (type)                    Output Shape         Param #     Connected to                     \n",
      "==================================================================================================\n",
      "input_3 (InputLayer)            [(None, 28, 28, 1)]  0                                            \n",
      "__________________________________________________________________________________________________\n",
      "conv2d_2 (Conv2D)               (None, 14, 14, 32)   320         input_3[0][0]                    \n",
      "__________________________________________________________________________________________________\n",
      "conv2d_3 (Conv2D)               (None, 7, 7, 64)     18496       conv2d_2[0][0]                   \n",
      "__________________________________________________________________________________________________\n",
      "flatten_1 (Flatten)             (None, 3136)         0           conv2d_3[0][0]                   \n",
      "__________________________________________________________________________________________________\n",
      "dense_3 (Dense)                 (None, 32)           100384      flatten_1[0][0]                  \n",
      "__________________________________________________________________________________________________\n",
      "dense_4 (Dense)                 (None, 32)           100384      flatten_1[0][0]                  \n",
      "__________________________________________________________________________________________________\n",
      "lambda_1 (Lambda)               (None, 32)           0           dense_3[0][0]                    \n",
      "                                                                 dense_4[0][0]                    \n",
      "==================================================================================================\n",
      "Total params: 219,584\n",
      "Trainable params: 219,584\n",
      "Non-trainable params: 0\n",
      "__________________________________________________________________________________________________\n",
      "Model: \"functional_3\"\n",
      "_________________________________________________________________\n",
      "Layer (type)                 Output Shape              Param #   \n",
      "=================================================================\n",
      "input_2 (InputLayer)         [(None, 32)]              0         \n",
      "_________________________________________________________________\n",
      "dense_2 (Dense)              (None, 3136)              103488    \n",
      "_________________________________________________________________\n",
      "reshape (Reshape)            (None, 7, 7, 64)          0         \n",
      "_________________________________________________________________\n",
      "conv2d_transpose (Conv2DTran (None, 14, 14, 64)        36928     \n",
      "_________________________________________________________________\n",
      "conv2d_transpose_1 (Conv2DTr (None, 28, 28, 32)        18464     \n",
      "_________________________________________________________________\n",
      "conv2d_transpose_2 (Conv2DTr (None, 28, 28, 1)         289       \n",
      "=================================================================\n",
      "Total params: 159,169\n",
      "Trainable params: 0\n",
      "Non-trainable params: 159,169\n",
      "_________________________________________________________________\n"
     ]
    }
   ],
   "source": [
    "encode2=Model(inputs2,z2)\n",
    "encode2.summary()\n",
    "\n",
    "input_compc=Input(shape=(height,width,1))\n",
    "\n",
    "for layer in decode.layers:\n",
    "    layer.trainable=False\n",
    "\n",
    "decode.summary()"
   ]
  },
  {
   "cell_type": "code",
   "execution_count": 32,
   "id": "ab4a33fb",
   "metadata": {
    "scrolled": true
   },
   "outputs": [
    {
     "name": "stdout",
     "output_type": "stream",
     "text": [
      "Model: \"functional_9\"\n",
      "__________________________________________________________________________________________________\n",
      "Layer (type)                    Output Shape         Param #     Connected to                     \n",
      "==================================================================================================\n",
      "input_3 (InputLayer)            [(None, 28, 28, 1)]  0                                            \n",
      "__________________________________________________________________________________________________\n",
      "functional_7 (Functional)       (None, 32)           219584      input_3[0][0]                    \n",
      "__________________________________________________________________________________________________\n",
      "input_4 (InputLayer)            [(None, 28, 28, 1)]  0                                            \n",
      "__________________________________________________________________________________________________\n",
      "functional_3 (Functional)       (None, 28, 28, 1)    159169      functional_7[0][0]               \n",
      "==================================================================================================\n",
      "Total params: 378,753\n",
      "Trainable params: 219,584\n",
      "Non-trainable params: 159,169\n",
      "__________________________________________________________________________________________________\n"
     ]
    }
   ],
   "source": [
    "encoding2=encode2(inputs2) #define the network\n",
    "re2=decode([encoding2])\n",
    "\n",
    "vae=Model([inputs2,input_compc],[re2]) #adds methods of the network\n",
    "vae.summary()"
   ]
  },
  {
   "cell_type": "code",
   "execution_count": 33,
   "id": "eb83bcef",
   "metadata": {},
   "outputs": [],
   "source": [
    "mse_loss=tf.reduce_mean(mse(input_compc,re2))*height*width\n",
    "vae.add_loss(mse_loss)\n",
    "vae.add_metric(mse_loss,'mse_loss')\n",
    "\n",
    "beta=0.1\n",
    "kl_loss=tf.reduce_mean(-0.5*(1+z_log_sigma2-tf.square(z_mean2)-tf.exp(z_log_sigma2)))*beta\n",
    "vae.add_loss(kl_loss)\n",
    "vae.add_metric(kl_loss,'kl_loss')\n",
    "\n",
    "together=[blended,components[0]]\n",
    "\n",
    "vae.compile(optimizer=Adam(learning_rate=0.001))"
   ]
  },
  {
   "cell_type": "code",
   "execution_count": 34,
   "id": "82ebfb04",
   "metadata": {
    "scrolled": true
   },
   "outputs": [
    {
     "name": "stdout",
     "output_type": "stream",
     "text": [
      "Epoch 1/5\n",
      "600/600 [==============================] - 22s 36ms/step - loss: 8.9639 - mse_loss: 8.6563 - kl_loss: 0.3076\n",
      "Epoch 2/5\n",
      "600/600 [==============================] - 23s 38ms/step - loss: 5.5800 - mse_loss: 5.2703 - kl_loss: 0.3097\n",
      "Epoch 3/5\n",
      "600/600 [==============================] - 26s 43ms/step - loss: 5.0254 - mse_loss: 4.7149 - kl_loss: 0.3105\n",
      "Epoch 4/5\n",
      "600/600 [==============================] - 24s 41ms/step - loss: 4.7076 - mse_loss: 4.3972 - kl_loss: 0.3104\n",
      "Epoch 5/5\n",
      "600/600 [==============================] - 25s 41ms/step - loss: 4.4801 - mse_loss: 4.1697 - kl_loss: 0.3104\n"
     ]
    }
   ],
   "source": [
    "history=vae.fit(together,verbose=1,epochs=5,batch_size=batch_size)"
   ]
  },
  {
   "cell_type": "code",
   "execution_count": 35,
   "id": "9730203b",
   "metadata": {},
   "outputs": [],
   "source": [
    "def summary_plot(n,inputs,decode,seed=1):\n",
    "    np.random.seed(seed)\n",
    "    #idx=np.array([0,1,2,3,4])\n",
    "    idx = np.random.choice(len(inputs[0]), size=n, replace=False)\n",
    "    print(idx)\n",
    "    input_img = inputs[0][idx]\n",
    "    compc=inputs[1][idx]\n",
    "    z = encode.predict(input_img)\n",
    "    output_img = decode.predict([z,compc])\n",
    "    fig, ax = plt.subplots(3, n, figsize=((3)*n,15))\n",
    "    for i in range(n):\n",
    "        encoding = ', '.join(f'{zi:.2f}' for zi in z[i][:3]) + ', ...'\n",
    "        showimg(input_img[i], ax[0, i], f'blend {idx[i]}')\n",
    "        showimg(compc[i], ax[1, i], f'comp1 {idx[i]}')\n",
    "        showimg(output_img[i], ax[2, i], f'output\\n{encoding}')\n",
    "    return idx"
   ]
  },
  {
   "cell_type": "code",
   "execution_count": 36,
   "id": "f8f04450",
   "metadata": {
    "scrolled": false
   },
   "outputs": [
    {
     "name": "stdout",
     "output_type": "stream",
     "text": [
      "[15281 21435 44536 13518 47529]\n"
     ]
    },
    {
     "data": {
      "image/png": "[encoded data removed]",
      "text/plain": [
       "<Figure size 1080x1080 with 15 Axes>"
      ]
     },
     "metadata": {
      "needs_background": "light"
     },
     "output_type": "display_data"
    }
   ],
   "source": [
    "chosen=summary_plot(n,together,decode)"
   ]
  },
  {
   "cell_type": "code",
   "execution_count": null,
   "id": "427532a2",
   "metadata": {},
   "outputs": [],
   "source": []
  }
 ],
 "metadata": {
  "kernelspec": {
   "display_name": "Python 3 (ipykernel)",
   "language": "python",
   "name": "python3"
  },
  "language_info": {
   "codemirror_mode": {
    "name": "ipython",
    "version": 3
   },
   "file_extension": ".py",
   "mimetype": "text/x-python",
   "name": "python",
   "nbconvert_exporter": "python",
   "pygments_lexer": "ipython3",
   "version": "3.8.12"
  }
 },
 "nbformat": 4,
 "nbformat_minor": 5
}
