{
 "cells": [
  {
   "cell_type": "code",
   "execution_count": 1,
   "id": "fd74c65d",
   "metadata": {},
   "outputs": [],
   "source": [
    "import numpy as np\n",
    "import matplotlib.pyplot as plt\n",
    "import tensorflow as tf\n",
    "\n",
    "from tensorflow import keras\n",
    "from tensorflow.keras import layers\n",
    "\n",
    "from tensorflow.keras.layers import Conv2D, MaxPooling2D, UpSampling2D, Conv2DTranspose\n",
    "from tensorflow.keras.layers import Input, Dense, Flatten, Lambda, Reshape\n",
    "from tensorflow.keras.models import Model\n",
    "from tensorflow.keras.optimizers import Adam\n",
    "from tensorflow.keras.losses import mse\n",
    "\n",
    "tf.random.set_seed(1)\n"
   ]
  },
  {
   "cell_type": "code",
   "execution_count": 2,
   "id": "721a71dd",
   "metadata": {},
   "outputs": [],
   "source": [
    "def showimg(img, ax, title=None, vmin=0, vmax=1):\n",
    "    ax.imshow(img.squeeze(), vmin=vmin, vmax=vmax)\n",
    "    ax.set_title(title)\n",
    "    ax.axis('off')\n",
    "\n",
    "def summary_plot(n,inputs,decode,seed=1):\n",
    "    np.random.seed(seed)\n",
    "    idx = np.random.choice(len(inputs[0]), size=n, replace=False)\n",
    "    print(idx)\n",
    "    input_img = inputs[0][idx]\n",
    "    comp1 = inputs[1][idx]\n",
    "    comp2 = inputs[2][idx]\n",
    "    z = encode.predict(input_img)\n",
    "    output_img1, output_img2 = decode.predict([z, comp1, comp2])\n",
    "    fig, ax = plt.subplots(6, n, figsize=((3)*n,15))\n",
    "    for i in range(n):\n",
    "        encoding = ', '.join(f'{zi:.2f}' for zi in z[i][:3]) + ', ...'\n",
    "        showimg(input_img[i], ax[0, i], f'blend {idx[i]}')\n",
    "        showimg(comp1[i], ax[1, i], f'comp1 {idx[i]}')\n",
    "        showimg(comp2[i], ax[2, i], f'comp2 {idx[i]}')\n",
    "        showimg(output_img1[i], ax[3, i], f'output1\\n{encoding}')\n",
    "        showimg(output_img2[i], ax[4, i], f'output2\\n{encoding}')\n",
    "        showimg(output_img1[i] + output_img2[i], ax[5, i], f'outblend\\n{encoding}')\n",
    "    return idx"
   ]
  },
  {
   "cell_type": "code",
   "execution_count": 3,
   "id": "a314891c",
   "metadata": {},
   "outputs": [],
   "source": [
    "(train_img, train_class),(test_img, test_class)=tf.keras.datasets.mnist.load_data()\n",
    "\n",
    "# MAKING THINGS A BIT EASIER BY NARROWING DOWN TO TWO CLASSES\n",
    "train_img = train_img[(train_class == 8) | (train_class == 7)]\n",
    "test_img = test_img[(test_class == 8) | (test_class == 7)]\n",
    "\n",
    "resized_height = 32\n",
    "resized_width = 32\n",
    "resize_and_rescale = tf.keras.Sequential([\n",
    "  layers.Resizing(resized_height, resized_width),\n",
    "  layers.Rescaling(1./255)\n",
    "])\n",
    "\n",
    "height,width=28,28\n",
    "train_img=train_img.reshape(train_img.shape[0],height,width,1).astype('float32')\n",
    "train_img= resize_and_rescale(train_img)\n",
    "#train_img/=255\n",
    "\n",
    "test_img=test_img.reshape(test_img.shape[0],height,width,1).astype('float32')\n",
    "test_img= resize_and_rescale(test_img)\n",
    "#test_img/=255"
   ]
  },
  {
   "cell_type": "code",
   "execution_count": 4,
   "id": "f84595dd",
   "metadata": {},
   "outputs": [],
   "source": [
    "batch_size = 100"
   ]
  },
  {
   "cell_type": "code",
   "execution_count": 5,
   "id": "19086ff8",
   "metadata": {},
   "outputs": [],
   "source": [
    "# PREVIOUS LATENT DIMENSIONS WAS ONLY 2!\n",
    "# WAY TOO SMALL TO ENCODE INFO HENCE POOR RESULTS\n",
    "latent_dimensions = 32"
   ]
  },
  {
   "cell_type": "code",
   "execution_count": 6,
   "id": "ef7271b4",
   "metadata": {},
   "outputs": [
    {
     "name": "stdout",
     "output_type": "stream",
     "text": [
      "(60000, 32, 32, 1)\n",
      "(2, 60000, 32, 32, 1)\n"
     ]
    }
   ],
   "source": [
    "from tensorflow.keras.preprocessing.image import ImageDataGenerator\n",
    "\n",
    "datagen=ImageDataGenerator(rotation_range=30, width_shift_range=0.3, height_shift_range=0.3,\n",
    "                           shear_range=0.0, zoom_range=[1.5, 2.5], )\n",
    "\n",
    "# PREVIOUSLY WAS NOT USING A LOT OF THE DATA\n",
    "gen=datagen.flow(train_img, None, batch_size=1)\n",
    "\n",
    "num=60000\n",
    "comps=2\n",
    "components=np.array([[gen.next()[0, ..., 0] for j in range(num)] for i in range(comps)])\n",
    "blended=components.sum(axis=0)\n",
    "blended=blended.reshape(blended.shape[0],resized_height, resized_width,1).astype('float32')\n",
    "print(blended.shape)\n",
    "components = components.reshape(2, blended.shape[0], resized_height, resized_width,1).astype('float32')\n",
    "print(components.shape)\n",
    "# WOULD BE BEST TO SAVE THIS TO DISK AND JUST READ IN RATHER THAN GENERATING EVERY TIME"
   ]
  },
  {
   "cell_type": "code",
   "execution_count": 7,
   "id": "580a692e",
   "metadata": {},
   "outputs": [
    {
     "data": {
      "text/plain": [
       "((60000, 32, 32, 1), (2, 60000, 32, 32, 1))"
      ]
     },
     "execution_count": 7,
     "metadata": {},
     "output_type": "execute_result"
    }
   ],
   "source": [
    "blended.shape, components.shape"
   ]
  },
  {
   "cell_type": "code",
   "execution_count": 8,
   "id": "e9fe0c4d",
   "metadata": {},
   "outputs": [
    {
     "data": {
      "image/png": "[encoded data removed]",
      "text/plain": [
       "<Figure size 1080x720 with 15 Axes>"
      ]
     },
     "metadata": {
      "needs_background": "light"
     },
     "output_type": "display_data"
    }
   ],
   "source": [
    "n = 5\n",
    "fig,ax=plt.subplots(3,n,figsize=(3*n, 10))\n",
    "for i in range(n):\n",
    "    showimg(blended[i],ax[0,i],f'blend {i}')\n",
    "    for j in range(comps):\n",
    "        showimg(components[j,i],ax[j+1,i],f'component {j}')  "
   ]
  },
  {
   "cell_type": "code",
   "execution_count": 9,
   "id": "46f227ae",
   "metadata": {},
   "outputs": [],
   "source": [
    "def encoder(x):\n",
    "    x=Conv2D(32,3,activation='relu',padding='same',strides=2)(x)\n",
    "    x=Conv2D(32,3,activation='relu',padding='same',strides=2)(x)\n",
    "    x=Conv2D(64,3,activation='relu',padding='same',strides=2)(x)\n",
    "    x=Conv2D(64,3,activation='relu',padding='same',strides=2)(x)\n",
    "    return x"
   ]
  },
  {
   "cell_type": "code",
   "execution_count": 10,
   "id": "3c851a00",
   "metadata": {},
   "outputs": [],
   "source": [
    "def decoder(x):\n",
    "    #x=UpSampling2D()(x)\n",
    "    x=Conv2DTranspose(64,3,activation='relu',padding='same',strides=2)(x)\n",
    "    x=Conv2DTranspose(64,3,activation='relu',padding='same',strides=2)(x)\n",
    "    x=Conv2DTranspose(32,3,activation='relu',padding='same',strides=2)(x)\n",
    "    x=Conv2DTranspose(32,3,activation='relu',padding='same',strides=2)(x)\n",
    "    return x"
   ]
  },
  {
   "cell_type": "code",
   "execution_count": 11,
   "id": "d88c34b3",
   "metadata": {},
   "outputs": [],
   "source": [
    "def sampling(args):\n",
    "    z_mean,z_log_sigma=args\n",
    "    epsilon=tf.random.normal(shape=tf.shape(z_mean))\n",
    "    z=z_mean+tf.exp(0.5*z_log_sigma)*epsilon\n",
    "    return z"
   ]
  },
  {
   "cell_type": "code",
   "execution_count": 12,
   "id": "fab75da9",
   "metadata": {},
   "outputs": [],
   "source": [
    "# encoder\n",
    "input_blend=Input(shape=(resized_height, resized_width,1))\n",
    "\n",
    "encoded=encoder(input_blend)\n",
    "shape=encoded.get_shape()[1:]\n",
    "encoded=Flatten()(encoded)\n",
    "\n",
    "z_mean=Dense(latent_dimensions)(encoded)\n",
    "z_log_sigma=Dense(latent_dimensions)(encoded)\n",
    "z=Lambda(sampling)([z_mean,z_log_sigma])"
   ]
  },
  {
   "cell_type": "code",
   "execution_count": 13,
   "id": "626890e1",
   "metadata": {},
   "outputs": [],
   "source": [
    "# decoder\n",
    "input_embed=Input(shape=latent_dimensions)\n",
    "\n",
    "embed1=Dense(np.prod(shape),activation='relu')(input_embed)\n",
    "embed1=Reshape(shape)(embed1)\n",
    "decoded1=decoder(embed1)\n",
    "output1=Conv2DTranspose(1,3,padding='same')(decoded1)\n",
    "\n",
    "embed2=Dense(np.prod(shape),activation='relu')(input_embed)\n",
    "embed2=Reshape(shape)(embed2)\n",
    "decoded2=decoder(embed2)\n",
    "output2=Conv2DTranspose(1,3,padding='same')(decoded2)"
   ]
  },
  {
   "cell_type": "code",
   "execution_count": 14,
   "id": "173b85f1",
   "metadata": {},
   "outputs": [
    {
     "name": "stdout",
     "output_type": "stream",
     "text": [
      "Model: \"model\"\n",
      "__________________________________________________________________________________________________\n",
      " Layer (type)                   Output Shape         Param #     Connected to                     \n",
      "==================================================================================================\n",
      " input_1 (InputLayer)           [(None, 32, 32, 1)]  0           []                               \n",
      "                                                                                                  \n",
      " conv2d (Conv2D)                (None, 16, 16, 32)   320         ['input_1[0][0]']                \n",
      "                                                                                                  \n",
      " conv2d_1 (Conv2D)              (None, 8, 8, 32)     9248        ['conv2d[0][0]']                 \n",
      "                                                                                                  \n",
      " conv2d_2 (Conv2D)              (None, 4, 4, 64)     18496       ['conv2d_1[0][0]']               \n",
      "                                                                                                  \n",
      " conv2d_3 (Conv2D)              (None, 2, 2, 64)     36928       ['conv2d_2[0][0]']               \n",
      "                                                                                                  \n",
      " flatten (Flatten)              (None, 256)          0           ['conv2d_3[0][0]']               \n",
      "                                                                                                  \n",
      " dense (Dense)                  (None, 32)           8224        ['flatten[0][0]']                \n",
      "                                                                                                  \n",
      " dense_1 (Dense)                (None, 32)           8224        ['flatten[0][0]']                \n",
      "                                                                                                  \n",
      " lambda (Lambda)                (None, 32)           0           ['dense[0][0]',                  \n",
      "                                                                  'dense_1[0][0]']                \n",
      "                                                                                                  \n",
      "==================================================================================================\n",
      "Total params: 81,440\n",
      "Trainable params: 81,440\n",
      "Non-trainable params: 0\n",
      "__________________________________________________________________________________________________\n"
     ]
    }
   ],
   "source": [
    "encode=Model(input_blend,z)\n",
    "encode.summary()"
   ]
  },
  {
   "cell_type": "code",
   "execution_count": 15,
   "id": "69e4a814",
   "metadata": {},
   "outputs": [
    {
     "name": "stdout",
     "output_type": "stream",
     "text": [
      "Model: \"model_1\"\n",
      "__________________________________________________________________________________________________\n",
      " Layer (type)                   Output Shape         Param #     Connected to                     \n",
      "==================================================================================================\n",
      " input_2 (InputLayer)           [(None, 32)]         0           []                               \n",
      "                                                                                                  \n",
      " dense_2 (Dense)                (None, 256)          8448        ['input_2[0][0]']                \n",
      "                                                                                                  \n",
      " dense_3 (Dense)                (None, 256)          8448        ['input_2[0][0]']                \n",
      "                                                                                                  \n",
      " reshape (Reshape)              (None, 2, 2, 64)     0           ['dense_2[0][0]']                \n",
      "                                                                                                  \n",
      " reshape_1 (Reshape)            (None, 2, 2, 64)     0           ['dense_3[0][0]']                \n",
      "                                                                                                  \n",
      " conv2d_transpose (Conv2DTransp  (None, 4, 4, 64)    36928       ['reshape[0][0]']                \n",
      " ose)                                                                                             \n",
      "                                                                                                  \n",
      " conv2d_transpose_5 (Conv2DTran  (None, 4, 4, 64)    36928       ['reshape_1[0][0]']              \n",
      " spose)                                                                                           \n",
      "                                                                                                  \n",
      " conv2d_transpose_1 (Conv2DTran  (None, 8, 8, 64)    36928       ['conv2d_transpose[0][0]']       \n",
      " spose)                                                                                           \n",
      "                                                                                                  \n",
      " conv2d_transpose_6 (Conv2DTran  (None, 8, 8, 64)    36928       ['conv2d_transpose_5[0][0]']     \n",
      " spose)                                                                                           \n",
      "                                                                                                  \n",
      " conv2d_transpose_2 (Conv2DTran  (None, 16, 16, 32)  18464       ['conv2d_transpose_1[0][0]']     \n",
      " spose)                                                                                           \n",
      "                                                                                                  \n",
      " conv2d_transpose_7 (Conv2DTran  (None, 16, 16, 32)  18464       ['conv2d_transpose_6[0][0]']     \n",
      " spose)                                                                                           \n",
      "                                                                                                  \n",
      " conv2d_transpose_3 (Conv2DTran  (None, 32, 32, 32)  9248        ['conv2d_transpose_2[0][0]']     \n",
      " spose)                                                                                           \n",
      "                                                                                                  \n",
      " conv2d_transpose_8 (Conv2DTran  (None, 32, 32, 32)  9248        ['conv2d_transpose_7[0][0]']     \n",
      " spose)                                                                                           \n",
      "                                                                                                  \n",
      " input_3 (InputLayer)           [(None, 32, 32, 1)]  0           []                               \n",
      "                                                                                                  \n",
      " input_4 (InputLayer)           [(None, 32, 32, 1)]  0           []                               \n",
      "                                                                                                  \n",
      " conv2d_transpose_4 (Conv2DTran  (None, 32, 32, 1)   289         ['conv2d_transpose_3[0][0]']     \n",
      " spose)                                                                                           \n",
      "                                                                                                  \n",
      " conv2d_transpose_9 (Conv2DTran  (None, 32, 32, 1)   289         ['conv2d_transpose_8[0][0]']     \n",
      " spose)                                                                                           \n",
      "                                                                                                  \n",
      "==================================================================================================\n",
      "Total params: 220,610\n",
      "Trainable params: 220,610\n",
      "Non-trainable params: 0\n",
      "__________________________________________________________________________________________________\n"
     ]
    }
   ],
   "source": [
    "input_component1 = Input(shape=(resized_height, resized_width, 1))\n",
    "input_component2 = Input(shape=(resized_height, resized_width, 1))\n",
    "\n",
    "decode=Model([input_embed, input_component1, input_component2], [output1, output2])\n",
    "decode.summary()"
   ]
  },
  {
   "cell_type": "code",
   "execution_count": 16,
   "id": "b2a37981",
   "metadata": {},
   "outputs": [],
   "source": [
    "encoding = encode(input_blend)\n",
    "re1, re2 = decode([encoding, input_component1, input_component2])\n",
    "\n",
    "vae = Model([input_blend, input_component1, input_component2], [re1, re2])"
   ]
  },
  {
   "cell_type": "code",
   "execution_count": 17,
   "id": "9efa2f47",
   "metadata": {},
   "outputs": [
    {
     "name": "stdout",
     "output_type": "stream",
     "text": [
      "Model: \"model_2\"\n",
      "__________________________________________________________________________________________________\n",
      " Layer (type)                   Output Shape         Param #     Connected to                     \n",
      "==================================================================================================\n",
      " input_1 (InputLayer)           [(None, 32, 32, 1)]  0           []                               \n",
      "                                                                                                  \n",
      " model (Functional)             (None, 32)           81440       ['input_1[0][0]']                \n",
      "                                                                                                  \n",
      " input_3 (InputLayer)           [(None, 32, 32, 1)]  0           []                               \n",
      "                                                                                                  \n",
      " input_4 (InputLayer)           [(None, 32, 32, 1)]  0           []                               \n",
      "                                                                                                  \n",
      " model_1 (Functional)           [(None, 32, 32, 1),  220610      ['model[0][0]',                  \n",
      "                                 (None, 32, 32, 1)]               'input_3[0][0]',                \n",
      "                                                                  'input_4[0][0]']                \n",
      "                                                                                                  \n",
      "==================================================================================================\n",
      "Total params: 302,050\n",
      "Trainable params: 302,050\n",
      "Non-trainable params: 0\n",
      "__________________________________________________________________________________________________\n"
     ]
    }
   ],
   "source": [
    "vae.summary()"
   ]
  },
  {
   "cell_type": "code",
   "execution_count": 18,
   "id": "877b0192",
   "metadata": {},
   "outputs": [
    {
     "name": "stdout",
     "output_type": "stream",
     "text": [
      "(60000, 32, 32, 1)\n",
      "(60000, 32, 32, 1)\n",
      "(60000, 32, 32, 1)\n"
     ]
    }
   ],
   "source": [
    "# I FORGOT ABOUT THIS: WE NEED TO CONSIDER THAT THE COMPONENTS COULD BE EITHER WAY ROUND\n",
    "mse_lossA = mse(input_component1, re1) + mse(input_component2, re2)\n",
    "mse_lossA = tf.reduce_mean(mse_lossA / 2, axis=(1, 2))\n",
    "mse_lossB = mse(input_component1, re2) + mse(input_component2, re1)\n",
    "mse_lossB = tf.reduce_mean(mse_lossB / 2, axis=(1, 2))\n",
    "mse_loss = tf.reduce_mean(tf.minimum(mse_lossA, mse_lossB)) * height * width\n",
    "vae.add_loss(mse_loss)\n",
    "vae.add_metric(mse_loss, 'mse_loss')\n",
    "\n",
    "kl_loss=tf.reduce_mean(-0.5*(1+z_log_sigma-tf.square(z_mean)-tf.exp(z_log_sigma)))*0.1\n",
    "vae.add_loss(kl_loss)\n",
    "vae.add_metric(kl_loss,'kl_loss')\n",
    "\n",
    "print(blended.shape)\n",
    "print(components[0].shape)\n",
    "print(components[1].shape)\n",
    "together = [blended, components[0], components[1]]\n",
    "\n",
    "vae.compile(optimizer=Adam())"
   ]
  },
  {
   "cell_type": "code",
   "execution_count": 19,
   "id": "255e5d70",
   "metadata": {},
   "outputs": [
    {
     "name": "stdout",
     "output_type": "stream",
     "text": [
      "Epoch 1/3\n",
      "453/600 [=====================>........] - ETA: 21s - loss: 10.9995 - mse_loss: 10.8159 - kl_loss: 0.1837"
     ]
    },
    {
     "ename": "KeyboardInterrupt",
     "evalue": "",
     "output_type": "error",
     "traceback": [
      "\u001b[1;31m---------------------------------------------------------------------------\u001b[0m",
      "\u001b[1;31mKeyboardInterrupt\u001b[0m                         Traceback (most recent call last)",
      "\u001b[1;32m~\\AppData\\Local\\Temp/ipykernel_6240/40339816.py\u001b[0m in \u001b[0;36m<module>\u001b[1;34m\u001b[0m\n\u001b[0;32m      1\u001b[0m \u001b[1;31m#print(together)\u001b[0m\u001b[1;33m\u001b[0m\u001b[1;33m\u001b[0m\u001b[1;33m\u001b[0m\u001b[0m\n\u001b[1;32m----> 2\u001b[1;33m \u001b[0mhistory\u001b[0m\u001b[1;33m=\u001b[0m\u001b[0mvae\u001b[0m\u001b[1;33m.\u001b[0m\u001b[0mfit\u001b[0m\u001b[1;33m(\u001b[0m\u001b[0mtogether\u001b[0m\u001b[1;33m,\u001b[0m \u001b[0mverbose\u001b[0m\u001b[1;33m=\u001b[0m\u001b[1;36m1\u001b[0m\u001b[1;33m,\u001b[0m \u001b[0mepochs\u001b[0m\u001b[1;33m=\u001b[0m\u001b[1;36m3\u001b[0m\u001b[1;33m,\u001b[0m \u001b[0mbatch_size\u001b[0m\u001b[1;33m=\u001b[0m\u001b[0mbatch_size\u001b[0m\u001b[1;33m)\u001b[0m\u001b[1;33m\u001b[0m\u001b[1;33m\u001b[0m\u001b[0m\n\u001b[0m",
      "\u001b[1;32m~\\programming\\anaconda3\\envs\\VAE\\lib\\site-packages\\keras\\utils\\traceback_utils.py\u001b[0m in \u001b[0;36merror_handler\u001b[1;34m(*args, **kwargs)\u001b[0m\n\u001b[0;32m     62\u001b[0m     \u001b[0mfiltered_tb\u001b[0m \u001b[1;33m=\u001b[0m \u001b[1;32mNone\u001b[0m\u001b[1;33m\u001b[0m\u001b[1;33m\u001b[0m\u001b[0m\n\u001b[0;32m     63\u001b[0m     \u001b[1;32mtry\u001b[0m\u001b[1;33m:\u001b[0m\u001b[1;33m\u001b[0m\u001b[1;33m\u001b[0m\u001b[0m\n\u001b[1;32m---> 64\u001b[1;33m       \u001b[1;32mreturn\u001b[0m \u001b[0mfn\u001b[0m\u001b[1;33m(\u001b[0m\u001b[1;33m*\u001b[0m\u001b[0margs\u001b[0m\u001b[1;33m,\u001b[0m \u001b[1;33m**\u001b[0m\u001b[0mkwargs\u001b[0m\u001b[1;33m)\u001b[0m\u001b[1;33m\u001b[0m\u001b[1;33m\u001b[0m\u001b[0m\n\u001b[0m\u001b[0;32m     65\u001b[0m     \u001b[1;32mexcept\u001b[0m \u001b[0mException\u001b[0m \u001b[1;32mas\u001b[0m \u001b[0me\u001b[0m\u001b[1;33m:\u001b[0m  \u001b[1;31m# pylint: disable=broad-except\u001b[0m\u001b[1;33m\u001b[0m\u001b[1;33m\u001b[0m\u001b[0m\n\u001b[0;32m     66\u001b[0m       \u001b[0mfiltered_tb\u001b[0m \u001b[1;33m=\u001b[0m \u001b[0m_process_traceback_frames\u001b[0m\u001b[1;33m(\u001b[0m\u001b[0me\u001b[0m\u001b[1;33m.\u001b[0m\u001b[0m__traceback__\u001b[0m\u001b[1;33m)\u001b[0m\u001b[1;33m\u001b[0m\u001b[1;33m\u001b[0m\u001b[0m\n",
      "\u001b[1;32m~\\programming\\anaconda3\\envs\\VAE\\lib\\site-packages\\keras\\engine\\training.py\u001b[0m in \u001b[0;36mfit\u001b[1;34m(self, x, y, batch_size, epochs, verbose, callbacks, validation_split, validation_data, shuffle, class_weight, sample_weight, initial_epoch, steps_per_epoch, validation_steps, validation_batch_size, validation_freq, max_queue_size, workers, use_multiprocessing)\u001b[0m\n\u001b[0;32m   1382\u001b[0m                 _r=1):\n\u001b[0;32m   1383\u001b[0m               \u001b[0mcallbacks\u001b[0m\u001b[1;33m.\u001b[0m\u001b[0mon_train_batch_begin\u001b[0m\u001b[1;33m(\u001b[0m\u001b[0mstep\u001b[0m\u001b[1;33m)\u001b[0m\u001b[1;33m\u001b[0m\u001b[1;33m\u001b[0m\u001b[0m\n\u001b[1;32m-> 1384\u001b[1;33m               \u001b[0mtmp_logs\u001b[0m \u001b[1;33m=\u001b[0m \u001b[0mself\u001b[0m\u001b[1;33m.\u001b[0m\u001b[0mtrain_function\u001b[0m\u001b[1;33m(\u001b[0m\u001b[0miterator\u001b[0m\u001b[1;33m)\u001b[0m\u001b[1;33m\u001b[0m\u001b[1;33m\u001b[0m\u001b[0m\n\u001b[0m\u001b[0;32m   1385\u001b[0m               \u001b[1;32mif\u001b[0m \u001b[0mdata_handler\u001b[0m\u001b[1;33m.\u001b[0m\u001b[0mshould_sync\u001b[0m\u001b[1;33m:\u001b[0m\u001b[1;33m\u001b[0m\u001b[1;33m\u001b[0m\u001b[0m\n\u001b[0;32m   1386\u001b[0m                 \u001b[0mcontext\u001b[0m\u001b[1;33m.\u001b[0m\u001b[0masync_wait\u001b[0m\u001b[1;33m(\u001b[0m\u001b[1;33m)\u001b[0m\u001b[1;33m\u001b[0m\u001b[1;33m\u001b[0m\u001b[0m\n",
      "\u001b[1;32m~\\programming\\anaconda3\\envs\\VAE\\lib\\site-packages\\tensorflow\\python\\util\\traceback_utils.py\u001b[0m in \u001b[0;36merror_handler\u001b[1;34m(*args, **kwargs)\u001b[0m\n\u001b[0;32m    148\u001b[0m     \u001b[0mfiltered_tb\u001b[0m \u001b[1;33m=\u001b[0m \u001b[1;32mNone\u001b[0m\u001b[1;33m\u001b[0m\u001b[1;33m\u001b[0m\u001b[0m\n\u001b[0;32m    149\u001b[0m     \u001b[1;32mtry\u001b[0m\u001b[1;33m:\u001b[0m\u001b[1;33m\u001b[0m\u001b[1;33m\u001b[0m\u001b[0m\n\u001b[1;32m--> 150\u001b[1;33m       \u001b[1;32mreturn\u001b[0m \u001b[0mfn\u001b[0m\u001b[1;33m(\u001b[0m\u001b[1;33m*\u001b[0m\u001b[0margs\u001b[0m\u001b[1;33m,\u001b[0m \u001b[1;33m**\u001b[0m\u001b[0mkwargs\u001b[0m\u001b[1;33m)\u001b[0m\u001b[1;33m\u001b[0m\u001b[1;33m\u001b[0m\u001b[0m\n\u001b[0m\u001b[0;32m    151\u001b[0m     \u001b[1;32mexcept\u001b[0m \u001b[0mException\u001b[0m \u001b[1;32mas\u001b[0m \u001b[0me\u001b[0m\u001b[1;33m:\u001b[0m\u001b[1;33m\u001b[0m\u001b[1;33m\u001b[0m\u001b[0m\n\u001b[0;32m    152\u001b[0m       \u001b[0mfiltered_tb\u001b[0m \u001b[1;33m=\u001b[0m \u001b[0m_process_traceback_frames\u001b[0m\u001b[1;33m(\u001b[0m\u001b[0me\u001b[0m\u001b[1;33m.\u001b[0m\u001b[0m__traceback__\u001b[0m\u001b[1;33m)\u001b[0m\u001b[1;33m\u001b[0m\u001b[1;33m\u001b[0m\u001b[0m\n",
      "\u001b[1;32m~\\programming\\anaconda3\\envs\\VAE\\lib\\site-packages\\tensorflow\\python\\eager\\def_function.py\u001b[0m in \u001b[0;36m__call__\u001b[1;34m(self, *args, **kwds)\u001b[0m\n\u001b[0;32m    913\u001b[0m \u001b[1;33m\u001b[0m\u001b[0m\n\u001b[0;32m    914\u001b[0m       \u001b[1;32mwith\u001b[0m \u001b[0mOptionalXlaContext\u001b[0m\u001b[1;33m(\u001b[0m\u001b[0mself\u001b[0m\u001b[1;33m.\u001b[0m\u001b[0m_jit_compile\u001b[0m\u001b[1;33m)\u001b[0m\u001b[1;33m:\u001b[0m\u001b[1;33m\u001b[0m\u001b[1;33m\u001b[0m\u001b[0m\n\u001b[1;32m--> 915\u001b[1;33m         \u001b[0mresult\u001b[0m \u001b[1;33m=\u001b[0m \u001b[0mself\u001b[0m\u001b[1;33m.\u001b[0m\u001b[0m_call\u001b[0m\u001b[1;33m(\u001b[0m\u001b[1;33m*\u001b[0m\u001b[0margs\u001b[0m\u001b[1;33m,\u001b[0m \u001b[1;33m**\u001b[0m\u001b[0mkwds\u001b[0m\u001b[1;33m)\u001b[0m\u001b[1;33m\u001b[0m\u001b[1;33m\u001b[0m\u001b[0m\n\u001b[0m\u001b[0;32m    916\u001b[0m \u001b[1;33m\u001b[0m\u001b[0m\n\u001b[0;32m    917\u001b[0m       \u001b[0mnew_tracing_count\u001b[0m \u001b[1;33m=\u001b[0m \u001b[0mself\u001b[0m\u001b[1;33m.\u001b[0m\u001b[0mexperimental_get_tracing_count\u001b[0m\u001b[1;33m(\u001b[0m\u001b[1;33m)\u001b[0m\u001b[1;33m\u001b[0m\u001b[1;33m\u001b[0m\u001b[0m\n",
      "\u001b[1;32m~\\programming\\anaconda3\\envs\\VAE\\lib\\site-packages\\tensorflow\\python\\eager\\def_function.py\u001b[0m in \u001b[0;36m_call\u001b[1;34m(self, *args, **kwds)\u001b[0m\n\u001b[0;32m    945\u001b[0m       \u001b[1;31m# In this case we have created variables on the first call, so we run the\u001b[0m\u001b[1;33m\u001b[0m\u001b[1;33m\u001b[0m\u001b[1;33m\u001b[0m\u001b[0m\n\u001b[0;32m    946\u001b[0m       \u001b[1;31m# defunned version which is guaranteed to never create variables.\u001b[0m\u001b[1;33m\u001b[0m\u001b[1;33m\u001b[0m\u001b[1;33m\u001b[0m\u001b[0m\n\u001b[1;32m--> 947\u001b[1;33m       \u001b[1;32mreturn\u001b[0m \u001b[0mself\u001b[0m\u001b[1;33m.\u001b[0m\u001b[0m_stateless_fn\u001b[0m\u001b[1;33m(\u001b[0m\u001b[1;33m*\u001b[0m\u001b[0margs\u001b[0m\u001b[1;33m,\u001b[0m \u001b[1;33m**\u001b[0m\u001b[0mkwds\u001b[0m\u001b[1;33m)\u001b[0m  \u001b[1;31m# pylint: disable=not-callable\u001b[0m\u001b[1;33m\u001b[0m\u001b[1;33m\u001b[0m\u001b[0m\n\u001b[0m\u001b[0;32m    948\u001b[0m     \u001b[1;32melif\u001b[0m \u001b[0mself\u001b[0m\u001b[1;33m.\u001b[0m\u001b[0m_stateful_fn\u001b[0m \u001b[1;32mis\u001b[0m \u001b[1;32mnot\u001b[0m \u001b[1;32mNone\u001b[0m\u001b[1;33m:\u001b[0m\u001b[1;33m\u001b[0m\u001b[1;33m\u001b[0m\u001b[0m\n\u001b[0;32m    949\u001b[0m       \u001b[1;31m# Release the lock early so that multiple threads can perform the call\u001b[0m\u001b[1;33m\u001b[0m\u001b[1;33m\u001b[0m\u001b[1;33m\u001b[0m\u001b[0m\n",
      "\u001b[1;32m~\\programming\\anaconda3\\envs\\VAE\\lib\\site-packages\\tensorflow\\python\\eager\\function.py\u001b[0m in \u001b[0;36m__call__\u001b[1;34m(self, *args, **kwargs)\u001b[0m\n\u001b[0;32m   2954\u001b[0m       (graph_function,\n\u001b[0;32m   2955\u001b[0m        filtered_flat_args) = self._maybe_define_function(args, kwargs)\n\u001b[1;32m-> 2956\u001b[1;33m     return graph_function._call_flat(\n\u001b[0m\u001b[0;32m   2957\u001b[0m         filtered_flat_args, captured_inputs=graph_function.captured_inputs)  # pylint: disable=protected-access\n\u001b[0;32m   2958\u001b[0m \u001b[1;33m\u001b[0m\u001b[0m\n",
      "\u001b[1;32m~\\programming\\anaconda3\\envs\\VAE\\lib\\site-packages\\tensorflow\\python\\eager\\function.py\u001b[0m in \u001b[0;36m_call_flat\u001b[1;34m(self, args, captured_inputs, cancellation_manager)\u001b[0m\n\u001b[0;32m   1851\u001b[0m         and executing_eagerly):\n\u001b[0;32m   1852\u001b[0m       \u001b[1;31m# No tape is watching; skip to running the function.\u001b[0m\u001b[1;33m\u001b[0m\u001b[1;33m\u001b[0m\u001b[1;33m\u001b[0m\u001b[0m\n\u001b[1;32m-> 1853\u001b[1;33m       return self._build_call_outputs(self._inference_function.call(\n\u001b[0m\u001b[0;32m   1854\u001b[0m           ctx, args, cancellation_manager=cancellation_manager))\n\u001b[0;32m   1855\u001b[0m     forward_backward = self._select_forward_and_backward_functions(\n",
      "\u001b[1;32m~\\programming\\anaconda3\\envs\\VAE\\lib\\site-packages\\tensorflow\\python\\eager\\function.py\u001b[0m in \u001b[0;36mcall\u001b[1;34m(self, ctx, args, cancellation_manager)\u001b[0m\n\u001b[0;32m    497\u001b[0m       \u001b[1;32mwith\u001b[0m \u001b[0m_InterpolateFunctionError\u001b[0m\u001b[1;33m(\u001b[0m\u001b[0mself\u001b[0m\u001b[1;33m)\u001b[0m\u001b[1;33m:\u001b[0m\u001b[1;33m\u001b[0m\u001b[1;33m\u001b[0m\u001b[0m\n\u001b[0;32m    498\u001b[0m         \u001b[1;32mif\u001b[0m \u001b[0mcancellation_manager\u001b[0m \u001b[1;32mis\u001b[0m \u001b[1;32mNone\u001b[0m\u001b[1;33m:\u001b[0m\u001b[1;33m\u001b[0m\u001b[1;33m\u001b[0m\u001b[0m\n\u001b[1;32m--> 499\u001b[1;33m           outputs = execute.execute(\n\u001b[0m\u001b[0;32m    500\u001b[0m               \u001b[0mstr\u001b[0m\u001b[1;33m(\u001b[0m\u001b[0mself\u001b[0m\u001b[1;33m.\u001b[0m\u001b[0msignature\u001b[0m\u001b[1;33m.\u001b[0m\u001b[0mname\u001b[0m\u001b[1;33m)\u001b[0m\u001b[1;33m,\u001b[0m\u001b[1;33m\u001b[0m\u001b[1;33m\u001b[0m\u001b[0m\n\u001b[0;32m    501\u001b[0m               \u001b[0mnum_outputs\u001b[0m\u001b[1;33m=\u001b[0m\u001b[0mself\u001b[0m\u001b[1;33m.\u001b[0m\u001b[0m_num_outputs\u001b[0m\u001b[1;33m,\u001b[0m\u001b[1;33m\u001b[0m\u001b[1;33m\u001b[0m\u001b[0m\n",
      "\u001b[1;32m~\\programming\\anaconda3\\envs\\VAE\\lib\\site-packages\\tensorflow\\python\\eager\\execute.py\u001b[0m in \u001b[0;36mquick_execute\u001b[1;34m(op_name, num_outputs, inputs, attrs, ctx, name)\u001b[0m\n\u001b[0;32m     52\u001b[0m   \u001b[1;32mtry\u001b[0m\u001b[1;33m:\u001b[0m\u001b[1;33m\u001b[0m\u001b[1;33m\u001b[0m\u001b[0m\n\u001b[0;32m     53\u001b[0m     \u001b[0mctx\u001b[0m\u001b[1;33m.\u001b[0m\u001b[0mensure_initialized\u001b[0m\u001b[1;33m(\u001b[0m\u001b[1;33m)\u001b[0m\u001b[1;33m\u001b[0m\u001b[1;33m\u001b[0m\u001b[0m\n\u001b[1;32m---> 54\u001b[1;33m     tensors = pywrap_tfe.TFE_Py_Execute(ctx._handle, device_name, op_name,\n\u001b[0m\u001b[0;32m     55\u001b[0m                                         inputs, attrs, num_outputs)\n\u001b[0;32m     56\u001b[0m   \u001b[1;32mexcept\u001b[0m \u001b[0mcore\u001b[0m\u001b[1;33m.\u001b[0m\u001b[0m_NotOkStatusException\u001b[0m \u001b[1;32mas\u001b[0m \u001b[0me\u001b[0m\u001b[1;33m:\u001b[0m\u001b[1;33m\u001b[0m\u001b[1;33m\u001b[0m\u001b[0m\n",
      "\u001b[1;31mKeyboardInterrupt\u001b[0m: "
     ]
    }
   ],
   "source": [
    "#print(together)\n",
    "history=vae.fit(together, verbose=1, epochs=3, batch_size=batch_size)"
   ]
  },
  {
   "cell_type": "code",
   "execution_count": null,
   "id": "3cd4346e",
   "metadata": {},
   "outputs": [],
   "source": [
    "n=5\n",
    "chosen=summary_plot(n,together,decode)"
   ]
  },
  {
   "cell_type": "code",
   "execution_count": null,
   "id": "46664363",
   "metadata": {},
   "outputs": [],
   "source": []
  },
  {
   "cell_type": "code",
   "execution_count": null,
   "id": "3ff243cb",
   "metadata": {},
   "outputs": [],
   "source": []
  },
  {
   "cell_type": "code",
   "execution_count": null,
   "id": "c15b9bf8",
   "metadata": {},
   "outputs": [],
   "source": []
  },
  {
   "cell_type": "code",
   "execution_count": null,
   "id": "24cdcc9f",
   "metadata": {},
   "outputs": [],
   "source": []
  }
 ],
 "metadata": {
  "kernelspec": {
   "display_name": "Python 3 (ipykernel)",
   "language": "python",
   "name": "python3"
  },
  "language_info": {
   "codemirror_mode": {
    "name": "ipython",
    "version": 3
   },
   "file_extension": ".py",
   "mimetype": "text/x-python",
   "name": "python",
   "nbconvert_exporter": "python",
   "pygments_lexer": "ipython3",
   "version": "3.8.12"
  }
 },
 "nbformat": 4,
 "nbformat_minor": 5
}
