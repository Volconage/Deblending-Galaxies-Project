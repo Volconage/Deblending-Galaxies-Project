{
 "cells": [
  {
   "cell_type": "code",
   "execution_count": 19,
   "id": "ce187ec5",
   "metadata": {},
   "outputs": [],
   "source": [
    "import torch\n",
    "import torch.nn as nn\n",
    "import torch.optim as optim\n",
    "import torchvision\n",
    "import torchvision.datasets as datasets\n",
    "from torch.utils.data import DataLoader\n",
    "import torchvision.transforms as transforms\n",
    "from torch.utils.tensorboard import SummaryWriter"
   ]
  },
  {
   "cell_type": "code",
   "execution_count": 20,
   "id": "2d37f469",
   "metadata": {},
   "outputs": [],
   "source": [
    "class Discriminator(nn.Module):\n",
    "    def __init__(self, in_features):\n",
    "        super().__init__()\n",
    "        self.disc = nn.Sequential(\n",
    "            nn.Linear(in_features, 128),\n",
    "            nn.LeakyReLU(0.1),\n",
    "            nn.Linear(128,1),\n",
    "            nn.Sigmoid(),\n",
    "        )\n",
    "    \n",
    "    def forward(self, x):\n",
    "        return self.disc(x)"
   ]
  },
  {
   "cell_type": "code",
   "execution_count": 21,
   "id": "ea411813",
   "metadata": {},
   "outputs": [],
   "source": [
    "class Generator(nn.Module):\n",
    "    def __init__(self, z_dim, img_dim):\n",
    "        super().__init__()\n",
    "        self.gen = nn.Sequential(\n",
    "            nn.Linear(z_dim, 256),\n",
    "            nn.LeakyReLU(0.1),\n",
    "            nn.Linear(256, img_dim),\n",
    "            nn.Tanh(),\n",
    "        )\n",
    "    \n",
    "    def forward(self, x):\n",
    "        return self.gen(x)"
   ]
  },
  {
   "cell_type": "code",
   "execution_count": 22,
   "id": "4e8fdbc4",
   "metadata": {},
   "outputs": [],
   "source": [
    "#hyperparamters, very sensitive to these as this is a simple GAN\n",
    "device = \"cuda\" if torch.cuda.is_available() else \"cpu\"\n",
    "lr = 3e-4 # learning rate, can play around to see what happens when you change it\n",
    "z_dim = 64 #128, 256 or smaller\n",
    "image_dim = 28*28*1 #784\n",
    "batch_size = 32\n",
    "num_epochs = 50"
   ]
  },
  {
   "cell_type": "code",
   "execution_count": 23,
   "id": "bc1d9161",
   "metadata": {},
   "outputs": [],
   "source": [
    "disc = Discriminator(image_dim).to(device) #discriminator of image dimension sent to device\n",
    "gen = Generator(z_dim, image_dim).to(device) # Generator of z dimension and image dimension sent to device\n",
    "fixed_noise = torch.randn((batch_size, z_dim)).to(device) # fixed noise to see how it has changed across the epochs\n",
    "transforms = transforms.Compose(\n",
    "    [transforms.ToTensor(), transforms.Normalize((0.1307,), (0.3081,))] # mean and standard deviation in that order, actual mean and sd of mnis data\n",
    ")\n"
   ]
  },
  {
   "cell_type": "code",
   "execution_count": 24,
   "id": "7bed46f9",
   "metadata": {},
   "outputs": [],
   "source": [
    "dataset = datasets.MNIST(root=\"dataset/\", transform=transforms, download=True) #getting mnist in\n",
    "loader = DataLoader(dataset, batch_size=batch_size, shuffle=True) #load all the data with the amount you want and shuffle them\n",
    "opt_disc = optim.Adam(disc.parameters(), lr=lr)#optimiser for the discriminator \n",
    "opt_gen = optim.Adam(gen.parameters(), lr=lr)#optimiser for the generator\n",
    "criterion = nn.BCELoss() #loss function, BCE Loss\n",
    "writer_fake = SummaryWriter(f\"logs/fake\") #writer showing fake images from the generator\n",
    "writer_real = SummaryWriter(f\"logs/real\") # writer showing real images\n",
    "step = 0"
   ]
  },
  {
   "cell_type": "code",
   "execution_count": null,
   "id": "a0b46136",
   "metadata": {
    "scrolled": false
   },
   "outputs": [
    {
     "name": "stdout",
     "output_type": "stream",
     "text": [
      "Epoch [0/50] Batch 0/1875                       Loss D: 0.6864, loss G: 0.6809\n",
      "Epoch [1/50] Batch 0/1875                       Loss D: 0.1926, loss G: 1.9405\n",
      "Epoch [2/50] Batch 0/1875                       Loss D: 0.0783, loss G: 2.7705\n",
      "Epoch [3/50] Batch 0/1875                       Loss D: 0.0486, loss G: 3.7118\n",
      "Epoch [4/50] Batch 0/1875                       Loss D: 0.1290, loss G: 3.2759\n",
      "Epoch [5/50] Batch 0/1875                       Loss D: 0.1040, loss G: 4.9335\n",
      "Epoch [6/50] Batch 0/1875                       Loss D: 0.0645, loss G: 5.3071\n",
      "Epoch [7/50] Batch 0/1875                       Loss D: 0.0086, loss G: 5.8743\n",
      "Epoch [8/50] Batch 0/1875                       Loss D: 0.0336, loss G: 4.7474\n",
      "Epoch [9/50] Batch 0/1875                       Loss D: 0.0096, loss G: 5.7562\n"
     ]
    }
   ],
   "source": [
    "for epoch in range(num_epochs):\n",
    "    for batch_idx, (real, _) in enumerate(loader): #don't need to use the actual labels, GAN unsupervised\n",
    "        real = real.view(-1, 784).to(device) #Keep the number of examples, then flatten everything else\n",
    "        batch_size = real.shape[0] #first dimension\n",
    "        \n",
    "        #Train Discriminator: maximise log(D(real)) + log(1-D(G(z))) where z is some random noise\n",
    "        \n",
    "        noise = torch.randn(batch_size, z_dim).to(device) #generating the noise\n",
    "        fake = gen(noise) #generate some fake images\n",
    "        disc_real = disc(real).view(-1) #what the discriminator outputs on the real lines\n",
    "        lossD_real = criterion(disc_real, torch.ones_like(disc_real)) #first term in the equation above, see BCELoss page\n",
    "        disc_fake = disc(fake).view(-1) #now the same thing for the second term of the equation above this is D(G(z))\n",
    "        lossD_fake = criterion(disc_fake, torch.zeros_like(disc_fake)) \n",
    "        lossD = (lossD_real + lossD_fake) / 2 #putting the equation together essentially\n",
    "        disc.zero_grad()\n",
    "        lossD.backward(retain_graph=True) #saves some of the terms from above\n",
    "        opt_disc.step()\n",
    "        \n",
    "        #Train Generator min log(1-D(G(z))) or better maximise log(D(G(z)))\n",
    "        \n",
    "        output = disc(fake).view(-1) #using the second term from above\n",
    "        lossG = criterion(output, torch.ones_like(output))\n",
    "        gen.zero_grad()\n",
    "        lossG.backward()\n",
    "        opt_gen.step()\n",
    "        \n",
    "        if batch_idx == 0:\n",
    "            print(\n",
    "                f\"Epoch [{epoch}/{num_epochs}] Batch {batch_idx}/{len(loader)} \\\n",
    "                      Loss D: {lossD:.4f}, loss G: {lossG:.4f}\"\n",
    "            )\n",
    "\n",
    "            with torch.no_grad():\n",
    "                fake = gen(fixed_noise).reshape(-1, 1, 28, 28)\n",
    "                data = real.reshape(-1, 1, 28, 28)\n",
    "                img_grid_fake = torchvision.utils.make_grid(fake, normalize=True)\n",
    "                img_grid_real = torchvision.utils.make_grid(data, normalize=True)\n",
    "\n",
    "                writer_fake.add_image(\n",
    "                    \"Mnist Fake Images\", img_grid_fake, global_step=step\n",
    "                )\n",
    "                writer_real.add_image(\n",
    "                    \"Mnist Real Images\", img_grid_real, global_step=step\n",
    "                )\n",
    "                step += 1"
   ]
  },
  {
   "cell_type": "code",
   "execution_count": null,
   "id": "b9ec3d67",
   "metadata": {},
   "outputs": [],
   "source": []
  },
  {
   "cell_type": "code",
   "execution_count": null,
   "id": "e5bbbb11",
   "metadata": {},
   "outputs": [],
   "source": []
  }
 ],
 "metadata": {
  "kernelspec": {
   "display_name": "Python 3 (ipykernel)",
   "language": "python",
   "name": "python3"
  },
  "language_info": {
   "codemirror_mode": {
    "name": "ipython",
    "version": 3
   },
   "file_extension": ".py",
   "mimetype": "text/x-python",
   "name": "python",
   "nbconvert_exporter": "python",
   "pygments_lexer": "ipython3",
   "version": "3.9.7"
  }
 },
 "nbformat": 4,
 "nbformat_minor": 5
}
